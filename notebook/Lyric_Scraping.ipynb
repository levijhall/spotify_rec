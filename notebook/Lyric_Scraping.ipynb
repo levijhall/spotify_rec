{
 "cells": [
  {
   "cell_type": "code",
   "execution_count": 1,
   "metadata": {},
   "outputs": [],
   "source": [
    "from bs4 import BeautifulSoup\n",
    "import requests\n",
    "from urllib.parse import quote_plus"
   ]
  },
  {
   "cell_type": "code",
   "execution_count": 2,
   "metadata": {},
   "outputs": [],
   "source": [
    "song = \"Here's Where The Story Ends\"\n",
    "band = \"Sundays\"\n",
    "year = \"1990\""
   ]
  },
  {
   "cell_type": "code",
   "execution_count": 3,
   "metadata": {},
   "outputs": [],
   "source": [
    "root_url = \"https://www.lyricsfreak.com\"\n",
    "search_stem = \"/search.php?q=\""
   ]
  },
  {
   "cell_type": "code",
   "execution_count": 4,
   "metadata": {},
   "outputs": [
    {
     "data": {
      "text/plain": [
       "200"
      ]
     },
     "execution_count": 4,
     "metadata": {},
     "output_type": "execute_result"
    }
   ],
   "source": [
    "url = root_url + search_stem + song\n",
    "response = requests.get(url)\n",
    "response.status_code"
   ]
  },
  {
   "cell_type": "code",
   "execution_count": 5,
   "metadata": {},
   "outputs": [
    {
     "data": {
      "text/plain": [
       "'<!DOCTYPE html>\\n<html lang=\"en\">\\n\\n<head>\\n    <!-- Google Analytics -->\\n<script>\\n    window.ga=window.ga||function(){(ga.q=ga.q||[]).push(arguments)};ga.l=+new Date;\\n    ga(\\'create\\', \\'UA-9819958-1\\', \\'auto\\', { \\'allowLinker\\': true });\\n    ga(\\'send\\', \\'pageview\\');\\n\\n    ga(\\'require\\', \\'linker\\');\\n    ga(\\'linker:autoLink\\', [\\'lyricsfreak.com\\']);\\n    </script>\\n<script async src=\\'https://www.google-analytics.com/analytics.js\\'></script>\\n<!-- End Google Analytics -->\\n    <!-- Yandex.Metrika counter -->\\n<script type=\"text/javascript\">\\n    (function (d, w, c) {\\n        (w[c] = w[c] || []).push(function() {\\n            var params = {};\\n            if (UGAPP.bidding.analytics.variation) {\\n                params.dfp_variation = UGAPP.bidding.analytics.variation;\\n            }\\n            try {\\n                w.yaCounter18984733 = new Ya.Metrika({id:18984733,\\n                    webvisor:true,\\n                    clickmap:true,\\n                    trackLinks:true,\\n                    accurateTrackBounce:true,\\n                    params: params\\n                });\\n            } catch(e) {}\\n        });\\n\\n        var n = d.getElementsByTagName(\"script\")[0],\\n            s = d.createElement(\"script\"),\\n            f = function () { n.parentNode.insertBefore(s, n); };\\n        s.type = \"text/javascript\";\\n        s.async = true;\\n        s.src = (d.location.protocol == \"https:\" ? \"https:\" : \"http:\") + \"//cdn.ustatik.com/vendor/metrica/watch.js\";\\n\\n        if (w.opera == \"[object Opera]\") {\\n            d.addEventListener(\"DOMContentLoaded\", f, false);\\n        } else { f(); }\\n    })(document, window, \"yandex_metrika_callbacks\");\\n</script>\\n<noscript><div><img src=\"//mc.yandex.ru/watch/18984733\" style=\"position:absolute; left:-9999px;\" alt=\"\" /></div></noscript>\\n<!-- /Yandex.Metrika counter -->\\n    <script>\\n        (function(d,s,l){if (!(typeof Promise === \\'function\\' && \\'Promise\\' in window)) {var s=d.createElement(\\'script\\'),h=d.getElementsByTagName(\\'head\\')[0];s.src=l;s.type = \"text/javascript\";h.appendChild(s);}}(document, \\'script\\', \\'/static/vendor/es6-promise.min.js\\'));\\n    </script>\\n    <meta http-equiv=\"Content-Type\" content=\"text/html; charset=utf-8\">\\n    <title>LyricsFreak (search)</title>\\n    <meta name=\"description\" content=\"\">\\n            <style>\\n            .lf-list__heading-cell,.lf-marker{-moz-user-select:none;-ms-user-select:none}.lf-pagination__item,ol,ul{list-style:none}#sexybg,.blend,.floatfix,a.ls{zoom:1}.lsh,.vh{visibility:hidden}.genres,.hide_text,.lf-hero__meta,.overflow_a_h{white-space:nowrap}.collection{border-bottom:1px solid #E0E0E0}.collection__content{width:100%}.collection--no-border{border-bottom:none}.collection--indent-sm{margin-bottom:10px}.collection--indent-md{margin-bottom:27px}.collection--mobile{margin:0 -16px 14px}.collection--mobile .collection__wrapper{padding:0 16px;overflow-x:scroll;overflow-y:hidden;-webkit-overflow-scrolling:touch}#sexybg,.floatfix,.overflow-content,.overflow_a_h{overflow:hidden}.collection--mobile .collection__item{width:auto}.collection--mobile .collection__item .collection__image{width:265px}.collection--mobile .collection__item:last-child .collection__image{margin-right:16px}.collection__wrapper{display:-webkit-flex;display:-moz-box;display:-ms-flexbox;display:flex;margin-left:-4px}.collection__item{margin:0 4px 14px;text-decoration:none;width:33.333%}.collection__image{display:block;height:100px;width:100%;border-radius:4px;background-repeat:no-repeat;background-size:cover;background-color:#E0E0E0;margin-bottom:8px;background-position:center}.collection__image--full{height:150px;width:100%}.collection__title{font-size:13px;line-height:18px}.collection__description{line-height:20px}.collection__meta{color:#7A7A7A;margin:5px 0 13px;line-height:20px}.collection--horizontal .collection__item{display:-webkit-flex;display:-moz-box;display:-ms-flexbox;display:flex;margin:0}.collection--horizontal .collection__image{margin:0 16px 0 0;width:208px;height:130px;min-width:208px}.lf-list{margin-bottom:20px}.lf-list__cover{min-width:50px}.lf-list__container{display:table;border-collapse:collapse;width:100%;padding:0 10px}.lf-list:last-child{margin-bottom:0}.lf-list__row{display:table-row;border-bottom:1px solid #f5f7f8;width:100%;min-height:41px;font-size:12px;font-weight:400}.lf-list__row:hover{background:#fffcf0}.lf-list__heading--primary{background:#f0fae9;border-color:#e3f2da;color:#8a976f}.lf-list__heading--primary:hover{background:#f0fae9}.lf-list__heading--secondary{color:#6487c8;border-color:#dfeaf2;background:#f0f6fa}.lf-list__heading--secondary:hover{background:#f0f6fa}.lf-list__cell{display:table-cell;vertical-align:middle;padding:7px 8px}.lf-list__title .lf-link,.lf-pagination{display:-webkit-flex;display:-moz-box;display:-ms-flexbox}.lf-list__cell--full{width:100%!important}.lf-list__heading-cell{position:relative;cursor:pointer;-webkit-user-select:none;user-select:none;font-size:12px;font-weight:400}.lf-list__heading-cell:hover{color:#EF0000}.lf-list__heading-cell--disabled{cursor:default}.lf-list__heading-cell--disabled:hover{color:inherit}.lf-list__heading-cell.active:before{content:\\'\\';width:0;height:0;border-style:solid;border-width:5px 4px 0;border-color:#48a2dd transparent transparent;position:absolute;top:0;bottom:0;left:-8px;margin:auto}.js-page,.lf-button.loaded{position:relative}.lf-list__heading-cell.down:before{-webkit-transform:rotate(0);-ms-transform:rotate(0);transform:rotate(0)}.lf-list__heading-cell.up:before{-webkit-transform:rotate(180deg);-ms-transform:rotate(180deg);transform:rotate(180deg)}.lf-list__heading-cell--title{padding-left:27px}.lf-list__heading-cell--title.active:before{left:8px}.lf-list__title{width:200px}.lf-list__title .lf-link{display:flex;-webkit-align-items:center;-moz-box-align:center;-ms-flex-align:center;align-items:center}.lf-list__title .lf-link:before{content:\\'·\\';position:relative;display:inline-block;margin-right:13px}.lf-list__title--secondary a{color:#616161;text-decoration:none}.lf-list__title--secondary a:hover{color:red}.lf-list__meta{min-width:75px;color:#999}.lf-list__meta a{color:#0F6294;text-decoration:none}.lf-list__meta a:hover{color:red}.lf-list__rating{width:84px}.lf-list--top-indent{margin-top:10px}.lf-rating{background:url(/static/images/sprite.png) 0 -153px;height:16px}.lf-hero{-webkit-align-items:flex-end;-moz-box-align:end;-ms-flex-align:end;align-items:flex-end;margin:10px 0}.lf-hero--mobile{padding:10px 10px 0;margin-top:0}.lf-hero--mobile h1{padding:0}.lf-hero--vertical-direction{-webkit-flex-direction:column;-moz-box-orient:vertical;-moz-box-direction:normal;-ms-flex-direction:column;flex-direction:column;-webkit-align-items:flex-start;-moz-box-align:start;-ms-flex-align:start;align-items:flex-start}.lf-hero--vertical-direction .lf-hero__item:last-child{margin-top:10px}.lf-hero--subtitle{padding:0 10px 10px;font-size:14px}.lf-pagination{display:flex;-webkit-align-items:center;-moz-box-align:center;-ms-flex-align:center;align-items:center}.lf-pagination__item a,.lf-pagination__item span{display:-webkit-flex;display:-moz-box;display:-ms-flexbox;display:flex;-webkit-justify-content:center;-moz-box-pack:center;-ms-flex-pack:center;justify-content:center;text-decoration:none;-webkit-align-items:center;-moz-box-align:center;-ms-flex-align:center;align-items:center;padding:8px 0;margin:8px 4px;min-width:32px;font-size:12px;line-height:16px;border-radius:4px;color:#666;background:#F8F8F8}.lf-pagination__item span{background:0 0}.lf-pagination__item.next a,.lf-pagination__item.prev a{width:60px}.lf-link{text-decoration:none}.lf-link--secondary{color:#616161}.lf-link--primary{color:#0F6294}.lf-link--info{display:inline-block;text-decoration:underline;margin-top:10px;padding-left:26px;font-size:12px;color:#900A40}.lf-link--info:hover{text-decoration:none}.lf-line,a.sml{text-decoration:underline}@-webkit-keyframes rotate{from{-webkit-transform:rotate(0);transform:rotate(0)}to{-webkit-transform:rotate(360deg);transform:rotate(360deg)}}.lfd-content{padding:10px}.js-page{z-index:2147483642}.lf-button{display:-webkit-flex;display:-moz-box;display:-ms-flexbox;display:flex;-webkit-align-items:center;-moz-box-align:center;-ms-flex-align:center;align-items:center;-webkit-appearance:none;padding:5px 10px;border:1px solid;width:auto;cursor:pointer}.lf-button--facebook,.lf-button--save-file{border-radius:4px;color:#fff;font-size:13px;height:40px}.lf-button--mobile{padding:10px}.lf-button--top-indent-md{margin-top:16px}.lf-button--primary{background:#fff;border-color:#a9a9a9}.lf-button--facebook{background:#365899;border:none}.lf-button--save-file{background:#17A625;border:none}.lf-button--instagram{background:#d93175;color:#fff;border-radius:4px;font-size:13px;height:40px;border:none}.lf-button.disabled{opacity:.5}.lf-button.loaded:after{content:\\'\\';position:absolute;top:0;bottom:0;left:0;right:0;height:30px;width:30px;background:url(/static/images/loader.svg);-webkit-animation:rotate .6s linear infinite;animation:rotate .6s linear infinite;margin:auto}.lm-button--search{background:url(/static/images/bigsearch.gif) center no-repeat;width:33px;height:33px;border:none;position:relative}.lf-icon{display:inline-block;background-repeat:no-repeat;background-position:center center;background-size:contain;margin-right:8px}.lf-album,.lf-socials{display:-moz-box;display:-ms-flexbox}.lf-icon--sm{width:20px;height:20px}.lf-icon--md{width:40px;height:40px}.lf-icon--facebook{background-image:url(/static/images/share/facebook.svg)}.lf-icon--download{background-image:url(/static/images/share/download.svg)}.lf-icon--instagram{background-image:url(/static/images/share/instagram.svg)}.lf-line{cursor:pointer;-webkit-text-decoration-color:rgba(0,0,0,.3);-moz-text-decoration-color:rgba(0,0,0,.3);text-decoration-color:rgba(0,0,0,.3)}.lf-album{display:-webkit-flex;display:flex;padding:0 25px}.lf-album--mobile{padding:13px 13px 0}.lf-album__left{margin-right:16px}.lf-album__meta-item{font-size:14px;line-height:18px;padding-bottom:3px}.lf-album__meta-item:last-child{padding-bottom:0}.lf-album__meta-item a{display:inline!important;color:#0F6294!important;text-decoration:underline!important;margin:0!important;padding:0!important}.lf-album__meta-item a:hover{text-decoration:none!important}.lf-album__show-more:hover{border-color:#777!important}.lf-album__show-more{border:1px solid #666;padding:5px;text-align:center;width:100%;background:#fff;color:#666;cursor:pointer}.lf-album__show-more-container--indent{text-align:center;margin:15px}.lyrics-form-text{width:95px;text-align:right;padding:3px 10px 3px 3px;font-size:13px}.lyrics-form-text span{color:red}.lyrics-form-in input,.lyrics-form-in select,.lyrics-form-in textarea{box-sizing:border-box;-moz-box-sizing:border-box;width:100%;max-width:100%;border:1px solid #A9A9A9;padding:3px;font-size:13px;margin:0}.lyrics-form-link{font-size:13px;text-decoration:none}.lyrics-form{margin-top:25px;width:95%;font-family:Arial,sans-serif}.lyrics-form input[type=submit],.lyrics-form input[type=button]{cursor:pointer;padding:3px}.lyrics-form--mobile{margin:0;width:100%}.lyrics-form--mobile .lyrics-form-text{display:block;width:auto;text-align:left;margin-bottom:5px;padding-left:0}.lyrics-form--mobile .lyrics-form-in input,.lyrics-form--mobile .lyrics-form-in select,.lyrics-form--mobile .lyrics-form-in textarea{padding:10px 3px;margin-bottom:5px}.lyrics-form--mobile .lyrics-form-in input.no-indent,.lyrics-form--mobile .lyrics-form-in select.no-indent,.lyrics-form--mobile .lyrics-form-in textarea.no-indent{margin-bottom:0}.has-error .help-block{color:red;font-size:14px;padding:5px 0 10px}#suggestion_container a{color:#777;display:block;width:100%;margin-bottom:5px;text-decoration:none}#suggestion_container li{padding:5px 0 2px 7px;display:block}#suggestion_container li.active,#suggestion_container li:hover{background-color:#777}#suggestion_container li.active a,#suggestion_container li:hover a{color:#fff}#suggestion_container{width:367px;z-index:100999999900;display:block;background:#fff;position:fixed;margin:26px 0 0;color:#000;border:1px solid #ccc;font-size:15px}.suggestion_container--mobile{width:240px!important}.lf-socials{display:-webkit-flex;display:flex;margin:20px 10px}.alert__close,.lf-button-list{display:-moz-box;display:-ms-flexbox;-webkit-align-items:center}.lf-socials--item{margin-right:10px}.lf-marker{position:absolute;-webkit-user-select:none;user-select:none;z-index:1010;box-shadow:0 2px 3px rgba(0,0,0,.3);border-radius:2px;color:#fff;padding:10px 0;background:#E00107;width:109px;text-align:center;font-family:Arial,Helvetica,sans-serif;-webkit-transform:translateY(74px);-ms-transform:translateY(74px);transform:translateY(74px);cursor:pointer;line-height:normal}.lf-marker--mobile{-webkit-transform:translateY(0);-ms-transform:translateY(0);transform:translateY(0);line-height:25px}.lf-marker__pointer{width:0;height:0;border-style:solid;border-width:0 7px 7px;border-color:transparent transparent #E00107;position:absolute;top:-7px}.lf-spinner,.lf-spinner:after{top:0;left:0;bottom:0;right:0}.lf-spinner{position:fixed;background:rgba(0,0,0,.2);z-index:2147483641}.lf-spinner:after{content:\\'\\';position:absolute;height:30px;width:30px;background:url(/static/images/loader.svg);-webkit-animation:rotate .6s linear infinite;animation:rotate .6s linear infinite;margin:auto}@keyframes rotate{from{-webkit-transform:rotate(0);transform:rotate(0)}to{-webkit-transform:rotate(360deg);transform:rotate(360deg)}}.lf-button-list{display:-webkit-flex;display:flex;-moz-box-align:center;-ms-flex-align:center;align-items:center;margin-top:16px}.lf-button-list__item{position:relative;margin-right:10px}.alert{position:fixed;width:280px;left:0;right:0;top:50%;margin:-90px auto 0;z-index:1000;padding:16px;border-radius:4px;text-align:center;color:#fff;text-shadow:0 1px 1px rgba(0,0,0,.5)}.alert--success{background-color:#6EB038}.alert--danger{background-color:#E00107}.alert__title{font-size:20px}.alert__text{margin-top:5px}.alert__close{display:-webkit-flex;display:flex;-moz-box-align:center;-ms-flex-align:center;align-items:center;-webkit-justify-content:center;-moz-box-pack:center;-ms-flex-pack:center;justify-content:center;height:30px;width:30px;position:absolute;top:3px;margin:auto;right:0;z-index:1;cursor:pointer;font:400 25px/7px Arial;color:#fff;border-radius:22px}.lf-modal{z-index:2147483642;position:fixed;top:0!important;bottom:0;margin:auto;left:0!important;right:0;background-color:#fff;-webkit-user-select:none;-moz-user-select:none;-ms-user-select:none;user-select:none;height:817px;width:700px}#sexybg,.navbar-fixed{z-index:1}.lf-modal__close{display:-webkit-flex;display:-moz-box;display:-ms-flexbox;display:flex;-webkit-align-items:center;-moz-box-align:center;-ms-flex-align:center;align-items:center;-webkit-justify-content:center;-moz-box-pack:center;-ms-flex-pack:center;justify-content:center;height:50px;width:50px;position:absolute;top:0;bottom:0;margin:auto;right:0;z-index:1;cursor:pointer;font:400 30px/7px Arial;color:#000;border-radius:22px}.lf-hero__subtitle,.lf-modal__header{font-weight:400;font-family:Arial,sans-serif}.lf-modal__header{font-size:17px;background-color:#F3F3F3;padding:15px 10px;position:relative;border-bottom:1px solid #E0E0E0;line-height:normal;text-align:left}.ads,.az span{text-align:center}.lf-modal__content{background:#fff;padding:10px 10px 20px;position:relative}#sexybg,.lf-modal__backdrop,.navbar-fixed{position:fixed;top:0}.lf-modal__content img{display:block;width:100%}.lf-modal__backdrop{bottom:0;left:0;right:0;background:rgba(0,0,0,.2)}.lf-hero{display:-webkit-flex;display:-moz-box;display:-ms-flexbox;display:flex;-webkit-justify-content:space-between;-moz-box-pack:justify;-ms-flex-pack:justify;justify-content:space-between}.lf-hero--indent{margin:15px 10px 12px;padding-left:10px}.lf-hero__subtitle{margin-top:5px;font-size:15px}.lf-hero__meta{font-size:15px;padding-left:10px}.lf-hero a{color:#0F6294}a.sml,a.sml:hover{font:400 10px Verdana;color:maroon}*{margin:0;padding:0}.no-margin{margin:0!important}.no-padding{padding:0!important}.no-bg{background:0 0!important}.no-border{border:none!important}a img,table{border:none}.no-float{float:none!important}table{table-layout:fixed}input[type=button],input[type=submit]{padding:0 4px}.az span,.azswitch a,.genres a,a.sml:hover,a.song,a.song:hover,a.song_index{text-decoration:none}a.song{color:#0F6294}a.song:hover{color:red}a.song_index{color:#616161;display:block;padding:7px 0}a.song_index:hover{color:red}body{font-family:Arial,Helvetica,sans-serif;background:url(/static/images/horizon.png) 0 -56px repeat-x;height:100%;-webkit-text-size-adjust:100%}h1{font-size:16px;color:#666}h2{font:700 13px Trebuchet MS}.az span,.azswitch,.genres{font-size:13px}a{color:maroon}a:hover{color:#EF0000}.wrapper{width:960px;margin:0 auto}.header{margin-top:10px}.logo{background:url(/static/images/sprite.png) 0 -120px no-repeat;width:141px;height:32px;display:inline-block}.p_title{margin:10px}.td-search{width:400px}.azswitch{float:right;margin-top:13px;letter-spacing:1px}.az span,.searchinp,.srchadv,.srchbtn{float:left}.azswitch a{color:#0F6294;letter-spacing:1px;border-bottom:1px dotted #B2C7E7;outline:0}.azswitch a.on{color:#0F6294;border-bottom:1px dotted #D4BBD0}.azswitch a:hover{color:#EF0000;border-bottom:1px solid #EF0000}.navbar-cont{height:40px;margin-top:5px}.navbar{background:#fff;background:-webkit-gradient(linear,left top,left bottom,color-stop(0,#fff),color-stop(100%,#dadada));background:-webkit-linear-gradient(top,#fff 0,#dadada 100%);background:linear-gradient(to bottom,#fff 0,#dadada 100%);filter:progid:DXImageTransform.Microsoft.gradient( startColorstr=\\'#ffffff\\', endColorstr=\\'#dadada\\', GradientType=0 );height:37px;border:1px solid #d6d6d6;border-bottom:2px solid #525252}.navbar table{width:100%;height:40px}.az{width:644px;margin:0 auto}.az span{cursor:pointer;width:19px;color:#64646C;height:26px;padding-top:12px;margin-top:-1px}.az span:hover,.genres a:hover{color:#EF0000}.az span.on{width:19px;border:1px solid #4b4b4b;color:#fff;font-weight:700;background:#737373;background:-webkit-gradient(linear,left top,left bottom,color-stop(0,#737373),color-stop(100%,#434343));background:-webkit-linear-gradient(top,#737373 0,#434343 100%);background:linear-gradient(to bottom,#737373 0,#434343 100%);filter:progid:DXImageTransform.Microsoft.gradient( startColorstr=\\'#737373\\', endColorstr=\\'#434343\\', GradientType=0 )}.genres a{color:#64646C;margin-right:18px}.searchinp{border:1px solid #aaa;color:#6a6a6a;height:20px;margin-bottom:1px;font:400 12px Arial;background-color:#fff;width:300px;padding:2px 6px}.song-sidebar-title,.sublink{font-weight:700;outline:0;text-decoration:none}.srchadv{margin:5px 0 0 15px;font-size:11px;color:#64646C}.srchadv:hover{color:#444;text-decoration:none}.subhdr{margin-top:5px}.contype{float:right;color:#E1E9E1}.contype a{font-size:13px;color:#9BBA7B;border-bottom:1px solid #E1E9E1;text-decoration:none}.contype a:hover{color:#EF0000;border-bottom-color:#EF0000}.ads{padding:5px 0}.mainhr{background:#bababa;height:11px;font-size:1px}.content{border:solid #f0efdb;border-width:0 1px 1px;background:url(/static/images/sidebarbg.gif) repeat-y}.sidebar{width:320px;text-align:left;float:left;min-height:1px}.song-content .sidebar{min-width:400px;max-width:400px;border-right:1px solid #f0efdb;background:#FDFCEE}.submenu li{border-bottom:1px solid #f0efdb;font-size:12px}.sublink{padding:8px 10px;color:#B46049;display:block}.sublink:hover{color:#EF0000;background:#faf8e1}.sublink.on:hover{background:0 0}.sublink.on .rtrg{display:none}.sublink.on .dtrg{display:inline}.submenu span{font-size:7px;vertical-align:2px;padding-right:2px}.bigsrchinp,.searchform img{vertical-align:middle}.subhide a,.subhide span{padding:0 0 5px 22px;display:block}.subhide a{text-decoration:none;color:#0F6294}.subhide span{color:#555;font-size:12px}.subhide a:hover{color:red}.subhide a:last-child{padding-bottom:7px}.song-sidebar-title{padding:8px 10px;color:#B46049;display:block}.artdesc{padding:0 10px 10px;color:#474747;font-size:13px;line-height:19px}.artdesc img{float:left;margin-right:10px}.artdesc a{color:#B22424}.artdesc a:hover{color:#EF0000}.colortable{margin-left:10px}.colortable table{width:100%}.colortable thead td{text-align:left;border-style:solid;border-width:1px 0;padding-left:20px}.colortable thead td a,.colortable thead td span{display:block;padding:7px 0 7px 20px;font-size:12px;font-weight:400;text-decoration:none;width:100%}.colfirst a:hover,.colortable thead td a:hover{color:#EF0000!important}.colortable td{padding-left:39px;height:29px;border-bottom:1px solid #f5f7f8;font-size:12px;color:#999}.h1 h1,.h2 h2{font:400 12px Arial}.colortable tr:hover{background:#fffcf0}.colfirst{padding-left:5px!important}.colfirst a{color:#616161;display:block;margin-left:17px;padding:7px 0;text-decoration:none}.colfirst span{float:left;padding:7px 0}.inst_link{color:#616161!important;margin-left:17px}.colast{text-align:right!important;padding-right:50px!important}.albcover,.blett,.ticketcity_footer{text-align:center}tbody td.colast{padding-right:30px!important;padding-left:0}.colortable.yellow thead td{border-color:#f8f0d4;background:#fff9e5}.colortable.yellow thead td a{color:#a98563}.colortable.green thead td{border-color:#e3f2da;background:#f0fae9}.colortable.green thead td a{color:#8a976f}.colortable.blue thead td{border-color:#dfeaf2;background:#f0f6fa}.colortable.blue thead td a{color:#6487c8}.sortdownband,.sortupband{background:url(/static/images/orderdown.gif) 20px 50% no-repeat #f0f6fa!important}.sortdownalbum,.sortupalbum{background:url(/static/images/orderdown.gif) 20px 50% no-repeat #fff9e5!important}.sortdownsong,.sortupsong{background:url(/static/images/orderdown.gif) 20px 50% no-repeat #f0fae9!important}.h1 h1{color:#8A976F!important}.allsmth,.maroon{font-size:12px;color:#900A40}.allsmth{display:block;padding:7px 0 7px 40px}.stars{width:84px;float:right}#mainsx,#sexybg{left:0;width:100%}.stars div{background:url(/static/images/sprite.png) 0 -153px;height:16px;font-size:1px}.lyrbutts{padding:22px 0 10px 10px;font-size:12px;color:#0F6294;float:right}.lyrbutts a,.lyrbutts_p{background-image:url(/static/images/icons.gif);background-repeat:no-repeat;padding-left:21px;line-height:16px;display:inline-block;text-decoration:none}.lyrbutts_p{color:#999;background-position:0 -192px}.l_title,.lyrictxt,.translate{padding-left:10px}#sexybg,#sexybox,.sbmail,.sbvote{display:none}.lyrbutts a span{color:#0F6294;border-bottom:1px dotted #0F6294}.lyrbutts a:hover span{border-bottom:1px solid #EF0000;color:#EF0000}.lb-mail{background-position:0 -176px}.lb-print{background-position:0 -208px}.lb-vote{background-position:0 -80px}.lb-smaller{background-position:0 -16px}.lb-larger{background-position:0 -48px}.lb-correct{background-position:0 -324px}.lyrictxt{background:url(/static/images/txtstripes_large.gif);font:17px/30px Arial,sans-serif;min-height:598px;margin:10px}.lyric-song-head{font-size:19px;font-family:Arial,sans-serif}.l_title{font:700 13px Trebuchet MS;margin:15px 10px 12px}.translate{margin:10px;font:700 12px Verdana;color:#999}.translate_t{font:700 11px Verdana;color:#999}#sexybg{height:100%;background:#000;opacity:.4;filter:alpha(opacity=40)}#mainsx{position:absolute;top:270px;z-index:2}.sboxwr{background:#454d44;padding:1px}.sbox{background:#b9e77b;border:1px solid #eaf8d8;position:relative;padding:15px 15px 10px;font-size:13px;margin:0 auto}.sbox h3{font-size:14px;color:#333}.sbmail{width:470px}.sbmail b{color:#EF0000}.sbmail td{padding:5px 0}.sbvote{width:300px;padding-bottom:15px}.sbclose{background:url(/static/images/icons.gif) 0 -224px;width:16px;height:16px;position:absolute;right:15px;top:15px}.hr1{font-size:1px;height:2px;border-top:1px solid #9ecc62;border-bottom:1px solid #cbeb9f;margin:10px 0}.inptxt1{background:#FFFFDF;border:1px solid #999;width:150px;font-size:12px;color:#333;padding:2px}.inptxt1:focus,.txtar1:focus{border-color:#B41313}.txtar1{background-color:#FFFFDF;height:70px;border:1px solid #999;padding:5px;width:355px}.starvoter{background:url(/static/images/votestar.gif) repeat-x;height:16px;width:85px;margin:10px auto 0}.starvoter div{background:url(/static/images/votestar.gif) 0 -32px repeat-x;font-size:1px;width:34px;height:16px}.letpages{padding:10px 15px;font-size:13px;line-height:18px}.letpages a{color:#373737}.letpages a:hover{color:#EF0000}.pageactive{color:#EF0000!important}.blink{display:block;width:100%;text-decoration:none;color:#616161;padding:7px 0}.blink:hover{color:#EF0000}.searchform{display:-webkit-flex;display:-moz-box;display:-ms-flexbox;display:flex;-webkit-align-items:center;-moz-box-align:center;-ms-flex-align:center;align-items:center;padding:15px 20px;font-size:14px;color:#C3C3C3;zoom:1}.archart li a,.genlist a{display:block;text-decoration:none}.searchform a{color:#666;text-decoration:none}.searchform a:hover{color:#EF0000}.searchst{cursor:pointer;width:75px;height:26px;padding:0;border:1px solid #2c95ca;border-left:0;color:#fff;background:-webkit-gradient(linear,left top,left bottom,color-stop(0,#58bced),color-stop(100%,#298cbe));background:-webkit-linear-gradient(top,#58bced 0,#298cbe 100%);background:linear-gradient(to bottom,#58bced 0,#298cbe 100%);filter:progid:DXImageTransform.Microsoft.gradient( startColorstr=\\'#58bced\\', endColorstr=\\'#298cbe\\', GradientType=0 )}.searchst:hover{background:#3cb0ea;background:-webkit-gradient(linear,left top,left bottom,color-stop(0,#3cb0ea),color-stop(100%,#257eab));background:-webkit-linear-gradient(top,#3cb0ea 0,#257eab 100%);background:linear-gradient(to bottom,#3cb0ea 0,#257eab 100%);filter:progid:DXImageTransform.Microsoft.gradient( startColorstr=\\'#3cb0ea\\', endColorstr=\\'#257eab\\', GradientType=0 )}.bigsrchinp{font:18px Helvetica,sans-serif;border:1px solid #C8C8C8;color:#0F6294;height:26px;padding:6px 3px 6px 7px;width:549px;margin-right:10px}.srchmess{padding:15px 20px;color:#555;background:#FFFDF1;border:solid #EBEBEB;border-width:1px 0;font-size:13px}.popsearch{margin:20px 0 0 20px;font-size:13px;color:#A5ADB9;line-height:1.7em;width:100%}.popsearch a{color:#6783B0;text-decoration:none}.popsearch a:hover{color:#EF0000!important}.popsearch a.more{color:#9F4040;padding-left:11px}.brgenre,.genlist{padding:10px 0 0 10px}.brgenre{font-size:15px;color:#424242}.genlist{font-size:12px}.genlist a{padding:5px 0;width:100%;color:#373737}.genlist a:hover{color:#ef0000}.genlist li{border-top:1px solid #ccc;padding-left:18px}.genlist li:hover{background:#f9f9f9}.genlist li:last-child{border-bottom:1px solid #ccc}.genpar{background:#f3f3f3;padding-left:10px!important}.genunder a{padding-left:18px!important}.archivet{margin-top:20px;width:100%}.archivet td{padding-bottom:50px}.lastr td{padding-bottom:0}.archart{padding-left:20px;list-style-type:square}.archart li{color:#5B5A50;font-size:12px}.archart li a{line-height:22px;background:#FEFEE5;padding:8px 0 6px 13px;border:solid #ECECD3;border-width:1px 0 1px 1px;border-bottom-color:#fff;color:#5B5A50}.archart li a:hover{color:#EF0000;background:#FFFFD5}.lastli a{border-bottom:1px solid #ECECD3!important}.blett{width:150px;font-size:35px;font-weight:700;vertical-align:top}.albcover{padding-top:5px}.dn{display:none}.fs-10{font-size:10px}.fs-11{font-size:11px}.fs-12{font-size:12px}.fs-13{font-size:13px}.f-left{float:left!important}.f-right{float:right!important}.blend{opacity:.3;filter:alpha(opacity=30)}.blend:hover{opacity:1;filter:alpha(opacity=100)}.mtop10{margin-top:10px}.mbot10{margin-bottom:10px}.mtop20{margin-top:20px}.mbot35{margin-bottom:35px}.red{color:#EF0000}.paging{font:400 11px Verdana!important;color:#ecf8d8}.paging a,.paging a:hover{border:1px solid #dfeaf2;color:#6487c8;padding:2px 7px;margin-right:5px;text-decoration:none}.paging a:hover{background:#f0f6fa}.paging font{border:1px solid #dadada;padding:2px 7px;color:#999!important;text-decoration:none;margin-right:5px;background:#fff}.paging .sel{border:1px solid #dfeaf2;padding:2px 7px;color:#6487c8!important;text-decoration:none;margin-right:5px;background:#f0f6fa}.mw-headline{font-size:19.05px;font-weight:400;color:#000}.ringrone{padding-left:20px;padding-bottom:5px}.ringtone_b{margin-left:13px;margin-bottom:10px}.meta_l{padding-left:10px;margin:10px 10px 0;font:400 14px Arial,sans-serif;color:#474747;width:445px}.ticketcity{border:2px solid #01549F;font:400 12px Arial;color:#FFF;background:#01549F;margin:0}.ticketcity_header{text-align:center;padding:5px}.ticketcity_header a,.ticketcity_header a:hover{color:#fff;text-decoration:none}.ticketcity_body{background:#fff;font:400 11px Arial;color:#000;padding:10px}.ticketcity_body a{font:700 11px Arial;color:maroon;text-decoration:none}.ticketcity_body a:hover{font:700 11px Arial;color:red;text-decoration:none}.ticketcity_img{background:url(/static/images/sprite.png) 0 -170px no-repeat;width:164px;height:60px;display:inline-block}.phone_left,.phone_right{width:16px;height:17px;display:inline-block;vertical-align:middle}.footer{padding:20px;font:400 13px Arial}.h2_head h2,.h2_head span{font-family:Arial,Helvetica,sans-serif}.footer a{text-decoration:none;color:#0F6294}.footer a:hover{color:red}.phone_left{background:url(/static/images/icons.gif) 0 -283px no-repeat}.phone_right{background:url(/static/images/icons.gif) 0 -266px no-repeat}.alpha{margin-left:7px}.alpha_gen{margin-left:16px}.seo_featured_lyrics{width:300px;margin:20px auto 0;font-size:10pt;color:#B46049;padding-left:10px;min-height:246px}.seo_featured_lyrics strong{text-decoration:underline;cursor:pointer}.seo_featured_lyrics strong:hover,a.ls{text-decoration:none}.seo_featured_lyrics .selected{text-decoration:none;cursor:default}.js_nav,.lfd-link{cursor:pointer}.seo_featured_lyrics ul{margin-top:10px;font-size:12px}.seo_featured_lyrics ul.subhide a{padding-left:12px}.b-lyrics-from-signature{color:#fff;font-size:.8em}#blockvideo{width:300px;margin:20px auto 0;color:#B46049;font-size:10pt}#blockvideo strong{line-height:35px}#blockvideo div{font-size:12px;color:#0F6294;margin:7px 0 5px}#blockvideo textarea{width:299px}.h2_head h2{font-size:11px;color:#9BBA7B;font-weight:400;display:inline}.hide_text,a.ls{display:inline-block;overflow:hidden}.h2_head span{color:#666}.b-facebook-twitter-button{float:right;margin-top:10px;margin-right:10px}.b-fb-like{float:left;margin-top:2px}.maincont{position:relative;text-align:left}.maincont p{margin-bottom:10px}.vbanner_lyrics{width:160px;height:600px}a.ls{float:left;margin-right:10px;height:36px;width:100px;background:url(https://c.lyricsseal.com/img/verify.png) no-repeat;border:0;margin-top:-8px}#breadcrumb{line-height:14px;margin-top:3px;color:#d9d9d9;font-size:8px}#breadcrumb a span{color:#888;font:400 12px/normal Arial;text-decoration:underline}#breadcrumb a:hover span{color:#333;text-decoration:underline}.list-item a,.song-page-conthead-link:hover{text-decoration:none}#breadcrumb span{color:#666;font:normal normal 700 12px/normal Arial}.custom-h2,.list-item{font-family:Arial,sans-serif}.ringrone,.ringtone_b{height:auto!important}.ringrone{width:430px}.song-page-conthead-link{color:#0f6294!important}.hide_text{position:relative;padding-right:20px;max-width:100%;-moz-box-sizing:border-box;box-sizing:border-box}.hide_text:after{content:\"\";width:20px;height:20px;right:0;top:0;position:absolute;background:#FFF;background:-webkit-gradient(left,linear,0 0,0 100%,from(rgba(255,255,255,0)),color-stop(80%,#fff),to(#fff));background:-webkit-linear-gradient(left,rgba(255,255,255,0),#fff 80%,#fff);background:linear-gradient(to right,rgba(255,255,255,0),#fff 80%,#fff);background-repeat:no-repeat;filter:\"progid:DXImageTransform.Microsoft.gradient(startColorstr=\\'#00ffffff\\', endColorstr=\\'#ffffffff\\', GradientType=0)\"}.featured-lyrics .hide_text:after,.hot-lyrics .hide_text:after{background:#fdfcee;background:-webkit-gradient(left,linear,0 0,0 100%,from(rgba(253,252,238,0)),color-stop(80%,#fdfcee),to(#fdfcee));background:-webkit-linear-gradient(left,rgba(253,252,238,0),#fdfcee 80%,#fdfcee);background:linear-gradient(to right,rgba(253,252,238,0),#fdfcee 80%,#fdfcee);background-repeat:no-repeat;filter:\"progid:DXImageTransform.Microsoft.gradient(startColorstr=\\'#00fdfcee\\', endColorstr=\\'#fffdfcee\\', GradientType=0)\"}.maincont-list-item .hide_text:after{background:#fdfcee;background:-webkit-gradient(left,linear,0 0,0 100%,from(rgba(255,255,255,0)),color-stop(80%,#fff),to(#fff));background:-webkit-linear-gradient(left,rgba(255,255,255,0),#fff 80%,#fff);background:linear-gradient(to right,rgba(255,255,255,0),#fff 80%,#fff);background-repeat:no-repeat;filter:\"progid:DXImageTransform.Microsoft.gradient(startColorstr=\\'#00fdfcee\\', endColorstr=\\'#fffdfcee\\', GradientType=0)\"}.maincont-list-item{margin-top:10px}.list-item .col2 li{width:50%;float:left}.list-item .list-item-header{color:#000;padding-left:25px;font-size:17px;line-height:42px}.list-item .list-item-header__title{font-size:17px;font-family:Arial,sans-serif;line-height:42px;font-weight:400}.list-item .list-item-header .item-header-color{color:#e00107}.list-item li{border-bottom:1px solid rgba(0,0,0,.1)}.col2 li:nth-last-child(2),.list-item li:last-child{border-bottom:none}.list-item li a{display:block;overflow:hidden;padding:11px 11px 11px 0;margin-left:25px}.list-item li.d-table a.d-row{padding:0;margin-left:0}.list-item li.d-table{display:block;overflow:hidden;padding:11px 0}.list-item .d-cell{float:none;margin:0}.list-item .hide_text{display:block}.list-item .list-item-text{margin-top:19px}.list-item a .list-item-text div{font-size:14px;color:#000}.list-item a .list-item-text div:first-child{font-size:16px;color:#0f6294;text-decoration:underline}.list-item a:hover .list-item-text div:first-child{text-decoration:none}.maincont-list-item{padding:0 20px;overflow:hidden}.maincont-list-item .list-item-header{background-color:#f0f6fa;border:1px solid #dfeaf2}.maincont-banner-bottom{max-width:320px;text-align:center;margin:0 auto}.hot-lyrics{padding-top:0;width:239px;border-left:1px solid #F0EFDB}.hot-lyrics ul{margin-left:25px}.hot-lyrics .img{padding-right:15px;width:70px}.hot-lyrics .list-item-text{overflow:hidden}.pull-left{float:left}.pull-right{float:right}.clearfix:after,.clearfix:before{width:0;height:0;display:table;content:\"\";line-height:0}.clearfix:after{clear:both}.ov-h{overflow:hidden}.al-c{text-align:center}.song-info-panel{margin-top:10px;margin-bottom:10px}.list-item.col2 li{float:left;width:50%}.list-item.col3 li{float:left;width:33%}.more-lyrics{margin:20px 10px 70px}.more-lyrics iframe{width:100%!important}.more-lyrics .list-item-header{padding-left:13px;background-color:#f0f6fa;border-color:#dfeaf2}.more-lyrics li{border-color:#dfeaf2}.more-link-d{color:#000;margin-right:11px}.more-lyrics li a{color:#0F6294!important;margin-left:13px}.more-lyrics li a .more-link-t{text-decoration:underline}.more-lyrics li a:hover .more-link-t{text-decoration:none}.more-lyrics .hide_text:after{height:40px}.featured-lyrics{margin:20px 0 10px;padding:20px 0 10px;border-top:1px solid rgba(0,0,0,.1)}.featured-lyrics--top{margin:0;padding:20px 0 0;border-top:none}.no-indent .featured-lyrics{border-top:none;margin-top:0}.featured-lyrics .list-item-text{margin-top:0}.featured-lyrics .col2 li{width:50%;float:left}.d-table{display:table!important}.d-row{display:table-row!important;padding:0;float:none}.d-cell{display:table-cell!important;float:none}.w100p{width:100%}.al-m{vertical-align:middle}.al-t{vertical-align:top}.mleft10{margin-left:10px}[lazy-ad=top_banner]{min-height:90px}[lazy-ad=lefttop_banner],[lazy-ad=bottom_banner]{min-height:250px;text-align:center}[lazy-ad=leftthin_banner]{min-width:160px;min-height:600px}.custom-h2{font-size:17px;line-height:42px;font-weight:400}.lf-meta-list{padding:0 25px;max-width:400px}.lf-meta-list .lf-meta-list__item{display:-webkit-flex;display:-moz-box;display:-ms-flexbox;display:flex;font-size:14px;line-height:18px;border-bottom:1px solid rgba(0,0,0,.1);padding:7px 0}.lf-meta-list .lf-meta-list__item:last-child{border:none}.lf-meta-list .lf-meta-list__item .lf-meta-list__title{font-weight:700;width:130px;min-width:130px}.lf-meta-list .lf-meta-list__item .lf-meta-list__content{-webkit-flex-grow:1;-moz-box-flex:1;-ms-flex-positive:1;flex-grow:1;text-align:left}.lfd-link{text-decoration:underline}.lfd-link:hover{text-decoration:none}.lfd-link.lfd-link--primary{color:#176392}.lf-list-content{padding:0 25px}.lf-list-content a{margin-left:0!important}.hide{display:none}.jmn-jangonetwork-iframe{display:block;margin:0 auto}.flex-block{display:-webkit-flex;display:-moz-box;display:-ms-flexbox;display:flex}.footer-print{display:none}.lyrics-content{-webkit-flex-grow:1;-moz-box-flex:1;-ms-flex-positive:1;flex-grow:1}@media (max-width:769px){.lf-list__title{width:150px}}@media (max-width:320px){.lf-button{padding:5px 8px}}@media (max-width:1200px){.lf-marker{-webkit-transform:translateY(67px);-ms-transform:translateY(67px);transform:translateY(67px)}.lf-marker--mobile{-webkit-transform:translateY(0);-ms-transform:translateY(0);transform:translateY(0)}}@media (min-width:1200px){.large_wrapper{width:1143px}.large_wrapper .td-search{width:470px}.large_wrapper .searchinp{width:343px}.lyric-song-head{font-size:22px}.large_wrapper .searchst{width:102px}.large_wrapper .az a{width:23px}.large_wrapper .az a.on{width:19px}}@media print{.footer-print,.lyric-song-head,.lyrictxt{font-family:monospace}body{font-size:15px;background:#fff;margin:8px;color:#000}.footer,.google-ad,.header,.js-ab-regular,.lf-socials,.mainhr,.meta_l,.more-lyrics,.sidebar,.song-info-panel{display:none}.content{background:0 0;border:0}.lyrictxt{padding:0!important;margin:0;background:#fff;color:#000;font-size:15px!important;line-height:normal!important;min-height:auto!important}.lyric-song-head a{color:#000!important;text-decoration:none}.l_title{padding:0;margin:15px 0 20px}.lyric-song-head{font-size:23px}.footer-print{display:block;padding:20px 0;font-size:15px;color:#000}}        </style>\\n    \\n    <meta name=\"viewport\" content=\"width=device-width, initial-scale=1.0, maximum-scale=2.0, minimum-scale=1.0\"/>\\n\\n    \\n    <meta property=\"og:image\" content=\"\" />\\n    <meta property=\"og:url\" content=\"\">\\n    <meta property=\"og:image:width\" content=\"1080\" />\\n    <meta property=\"og:image:height\" content=\"1080\" />\\n    <meta property=\"og:description\" content=\" \" />\\n    <meta property=\"og:type\" content=\"article\" />\\n    <meta property=\"fb:app_id\" content=\"1454052448199369\" />\\n    <meta name=\"robots\" content=\"noindex\"></head>\\n<body>\\n<script>\\n    function loadGoogleCmpTcf2() {\\n        (function() {\\n            \\'use strict\\';var g=function(a){var b=0;return function(){return b<a.length?{done:!1,value:a[b++]}:{done:!0}}},l=this||self,m=/^[\\\\w+/_-]+[=]{0,2}$/,p=null,q=function(){},r=function(a){var b=typeof a;if(\"object\"==b)if(a){if(a instanceof Array)return\"array\";if(a instanceof Object)return b;var c=Object.prototype.toString.call(a);if(\"[object Window]\"==c)return\"object\";if(\"[object Array]\"==c||\"number\"==typeof a.length&&\"undefined\"!=typeof a.splice&&\"undefined\"!=typeof a.propertyIsEnumerable&&!a.propertyIsEnumerable(\"splice\"))return\"array\";\\n                if(\"[object Function]\"==c||\"undefined\"!=typeof a.call&&\"undefined\"!=typeof a.propertyIsEnumerable&&!a.propertyIsEnumerable(\"call\"))return\"function\"}else return\"null\";else if(\"function\"==b&&\"undefined\"==typeof a.call)return\"object\";return b},u=function(a,b){function c(){}c.prototype=b.prototype;a.prototype=new c;a.prototype.constructor=a};var v=function(a,b){Object.defineProperty(l,a,{configurable:!1,get:function(){return b},set:q})};var y=function(a,b){this.b=a===w&&b||\"\";this.a=x},x={},w={};var aa=function(a,b){a.src=b instanceof y&&b.constructor===y&&b.a===x?b.b:\"type_error:TrustedResourceUrl\";if(null===p)b:{b=l.document;if((b=b.querySelector&&b.querySelector(\"script[nonce]\"))&&(b=b.nonce||b.getAttribute(\"nonce\"))&&m.test(b)){p=b;break b}p=\"\"}b=p;b&&a.setAttribute(\"nonce\",b)};var z=function(){return Math.floor(2147483648*Math.random()).toString(36)+Math.abs(Math.floor(2147483648*Math.random())^+new Date).toString(36)};var A=function(a,b){b=String(b);\"application/xhtml+xml\"===a.contentType&&(b=b.toLowerCase());return a.createElement(b)},B=function(a){this.a=a||l.document||document};B.prototype.appendChild=function(a,b){a.appendChild(b)};var C=function(a,b,c,d,e,f){try{var k=a.a,h=A(a.a,\"SCRIPT\");h.async=!0;aa(h,b);k.head.appendChild(h);h.addEventListener(\"load\",function(){e();d&&k.head.removeChild(h)});h.addEventListener(\"error\",function(){0<c?C(a,b,c-1,d,e,f):(d&&k.head.removeChild(h),f())})}catch(n){f()}};var ba=l.atob(\"aHR0cHM6Ly93d3cuZ3N0YXRpYy5jb20vaW1hZ2VzL2ljb25zL21hdGVyaWFsL3N5c3RlbS8xeC93YXJuaW5nX2FtYmVyXzI0ZHAucG5n\"),ca=l.atob(\"WW91IGFyZSBzZWVpbmcgdGhpcyBtZXNzYWdlIGJlY2F1c2UgYWQgb3Igc2NyaXB0IGJsb2NraW5nIHNvZnR3YXJlIGlzIGludGVyZmVyaW5nIHdpdGggdGhpcyBwYWdlLg==\"),da=l.atob(\"RGlzYWJsZSBhbnkgYWQgb3Igc2NyaXB0IGJsb2NraW5nIHNvZnR3YXJlLCB0aGVuIHJlbG9hZCB0aGlzIHBhZ2Uu\"),ea=function(a,b,c){this.b=a;this.f=new B(this.b);this.a=null;this.c=[];this.g=!1;this.i=b;this.h=c},F=function(a){if(a.b.body&&!a.g){var b=\\n                function(){D(a);l.setTimeout(function(){return E(a,3)},50)};C(a.f,a.i,2,!0,function(){l[a.h]||b()},b);a.g=!0}},D=function(a){for(var b=G(1,5),c=0;c<b;c++){var d=H(a);a.b.body.appendChild(d);a.c.push(d)}b=H(a);b.style.bottom=\"0\";b.style.left=\"0\";b.style.position=\"fixed\";b.style.width=G(100,110).toString()+\"%\";b.style.zIndex=G(2147483544,2147483644).toString();b.style[\"background-color\"]=I(249,259,242,252,219,229);b.style[\"box-shadow\"]=\"0 0 12px #888\";b.style.color=I(0,10,0,10,0,10);b.style.display=\\n                \"flex\";b.style[\"justify-content\"]=\"center\";b.style[\"font-family\"]=\"Roboto, Arial\";c=H(a);c.style.width=G(80,85).toString()+\"%\";c.style.maxWidth=G(750,775).toString()+\"px\";c.style.margin=\"24px\";c.style.display=\"flex\";c.style[\"align-items\"]=\"flex-start\";c.style[\"justify-content\"]=\"center\";d=A(a.f.a,\"IMG\");d.className=z();d.src=ba;d.style.height=\"24px\";d.style.width=\"24px\";d.style[\"padding-right\"]=\"16px\";var e=H(a),f=H(a);f.style[\"font-weight\"]=\"bold\";f.textContent=ca;var k=H(a);k.textContent=da;J(a,\\n                e,f);J(a,e,k);J(a,c,d);J(a,c,e);J(a,b,c);a.a=b;a.b.body.appendChild(a.a);b=G(1,5);for(c=0;c<b;c++)d=H(a),a.b.body.appendChild(d),a.c.push(d)},J=function(a,b,c){for(var d=G(1,5),e=0;e<d;e++){var f=H(a);b.appendChild(f)}b.appendChild(c);c=G(1,5);for(d=0;d<c;d++)e=H(a),b.appendChild(e)},G=function(a,b){return Math.floor(a+Math.random()*(b-a))},I=function(a,b,c,d,e,f){return\"rgb(\"+G(Math.max(a,0),Math.min(b,255)).toString()+\",\"+G(Math.max(c,0),Math.min(d,255)).toString()+\",\"+G(Math.max(e,0),Math.min(f,\\n                255)).toString()+\")\"},H=function(a){a=A(a.f.a,\"DIV\");a.className=z();return a},E=function(a,b){0>=b||null!=a.a&&0!=a.a.offsetHeight&&0!=a.a.offsetWidth||(fa(a),D(a),l.setTimeout(function(){return E(a,b-1)},50))},fa=function(a){var b=a.c;var c=\"undefined\"!=typeof Symbol&&Symbol.iterator&&b[Symbol.iterator];b=c?c.call(b):{next:g(b)};for(c=b.next();!c.done;c=b.next())(c=c.value)&&c.parentNode&&c.parentNode.removeChild(c);a.c=[];(b=a.a)&&b.parentNode&&b.parentNode.removeChild(b);a.a=null};var ia=function(a,b,c,d,e){var f=ha(c),k=function(n){n.appendChild(f);l.setTimeout(function(){f?(0!==f.offsetHeight&&0!==f.offsetWidth?b():a(),f.parentNode&&f.parentNode.removeChild(f)):a()},d)},h=function(n){document.body?k(document.body):0<n?l.setTimeout(function(){h(n-1)},e):b()};h(3)},ha=function(a){var b=document.createElement(\"div\");b.className=a;b.style.width=\"1px\";b.style.height=\"1px\";b.style.position=\"absolute\";b.style.left=\"-10000px\";b.style.top=\"-10000px\";b.style.zIndex=\"-10000\";return b};var K={},L=null;var M=function(){},N=\"function\"==typeof Uint8Array,O=function(a,b){a.b=null;b||(b=[]);a.j=void 0;a.f=-1;a.a=b;a:{if(b=a.a.length){--b;var c=a.a[b];if(!(null===c||\"object\"!=typeof c||Array.isArray(c)||N&&c instanceof Uint8Array)){a.g=b-a.f;a.c=c;break a}}a.g=Number.MAX_VALUE}a.i={}},P=[],Q=function(a,b){if(b<a.g){b+=a.f;var c=a.a[b];return c===P?a.a[b]=[]:c}if(a.c)return c=a.c[b],c===P?a.c[b]=[]:c},R=function(a,b,c){a.b||(a.b={});if(!a.b[c]){var d=Q(a,c);d&&(a.b[c]=new b(d))}return a.b[c]};\\n            M.prototype.h=N?function(){var a=Uint8Array.prototype.toJSON;Uint8Array.prototype.toJSON=function(){var b;void 0===b&&(b=0);if(!L){L={};for(var c=\"ABCDEFGHIJKLMNOPQRSTUVWXYZabcdefghijklmnopqrstuvwxyz0123456789\".split(\"\"),d=[\"+/=\",\"+/\",\"-_=\",\"-_.\",\"-_\"],e=0;5>e;e++){var f=c.concat(d[e].split(\"\"));K[e]=f;for(var k=0;k<f.length;k++){var h=f[k];void 0===L[h]&&(L[h]=k)}}}b=K[b];c=[];for(d=0;d<this.length;d+=3){var n=this[d],t=(e=d+1<this.length)?this[d+1]:0;h=(f=d+2<this.length)?this[d+2]:0;k=n>>2;n=(n&\\n                3)<<4|t>>4;t=(t&15)<<2|h>>6;h&=63;f||(h=64,e||(t=64));c.push(b[k],b[n],b[t]||\"\",b[h]||\"\")}return c.join(\"\")};try{return JSON.stringify(this.a&&this.a,S)}finally{Uint8Array.prototype.toJSON=a}}:function(){return JSON.stringify(this.a&&this.a,S)};var S=function(a,b){return\"number\"!==typeof b||!isNaN(b)&&Infinity!==b&&-Infinity!==b?b:String(b)};M.prototype.toString=function(){return this.a.toString()};var T=function(a){O(this,a)};u(T,M);var U=function(a){O(this,a)};u(U,M);var ja=function(a,b){this.c=new B(a);var c=R(b,T,5);c=new y(w,Q(c,4)||\"\");this.b=new ea(a,c,Q(b,4));this.a=b},ka=function(a,b,c,d){b=new T(b?JSON.parse(b):null);b=new y(w,Q(b,4)||\"\");C(a.c,b,3,!1,c,function(){ia(function(){F(a.b);d(!1)},function(){d(!0)},Q(a.a,2),Q(a.a,3),Q(a.a,1))})};var la=function(a,b){V(a,\"internal_api_load_with_sb\",function(c,d,e){ka(b,c,d,e)});V(a,\"internal_api_sb\",function(){F(b.b)})},V=function(a,b,c){a=l.btoa(a+b);v(a,c)},W=function(a,b,c){for(var d=[],e=2;e<arguments.length;++e)d[e-2]=arguments[e];e=l.btoa(a+b);e=l[e];if(\"function\"==r(e))e.apply(null,d);else throw Error(\"API not exported.\");};var X=function(a){O(this,a)};u(X,M);var Y=function(a){this.h=window;this.a=a;this.b=Q(this.a,1);this.f=R(this.a,T,2);this.g=R(this.a,U,3);this.c=!1};Y.prototype.start=function(){ma();var a=new ja(this.h.document,this.g);la(this.b,a);na(this)};\\n            var ma=function(){var a=function(){if(!l.frames.googlefcPresent)if(document.body){var b=document.createElement(\"iframe\");b.style.display=\"none\";b.style.width=\"0px\";b.style.height=\"0px\";b.style.border=\"none\";b.style.zIndex=\"-1000\";b.style.left=\"-1000px\";b.style.top=\"-1000px\";b.name=\"googlefcPresent\";document.body.appendChild(b)}else l.setTimeout(a,5)};a()},na=function(a){var b=Date.now();W(a.b,\"internal_api_load_with_sb\",a.f.h(),function(){var c;var d=a.b,e=l[l.btoa(d+\"loader_js\")];if(e){e=l.atob(e);\\n                e=parseInt(e,10);d=l.btoa(d+\"loader_js\").split(\".\");var f=l;d[0]in f||\"undefined\"==typeof f.execScript||f.execScript(\"var \"+d[0]);for(;d.length&&(c=d.shift());)d.length?f[c]&&f[c]!==Object.prototype[c]?f=f[c]:f=f[c]={}:f[c]=null;c=Math.abs(b-e);c=1728E5>c?0:c}else c=-1;0!=c&&(W(a.b,\"internal_api_sb\"),Z(a,Q(a.a,6)))},function(c){Z(a,c?Q(a.a,4):Q(a.a,5))})},Z=function(a,b){a.c||(a.c=!0,a=new l.XMLHttpRequest,a.open(\"GET\",b,!0),a.send())};(function(a,b){l[a]=function(c){for(var d=[],e=0;e<arguments.length;++e)d[e-0]=arguments[e];l[a]=q;b.apply(null,d)}})(\"__d3lUW8vwsKlB__\",function(a){\"function\"==typeof window.atob&&(a=window.atob(a),a=new X(a?JSON.parse(a):null),(new Y(a)).start())});}).call(this);\\n\\n        window.__d3lUW8vwsKlB__(\"WyJkZGY2ZGJkNjczOTdkMzZhIixbbnVsbCxudWxsLG51bGwsImh0dHBzOi8vZnVuZGluZ2Nob2ljZXNtZXNzYWdlcy5nb29nbGUuY29tL2YvQUdTS1d4VWZmRzlYTF94QUpTRkhwZmhaZTR1UWJXXzhKejkyU0piSkNqUXpmNlZjcXpoTWgycnUzOHBxZDhMOWh2elJ2MVFla2NGVGZ5MW1hYzBCN0psYnFid1x1MDAzZCJdCixbMjAsImRpdi1ncHQtYWQiLDEwMCwiWkdSbU5tUmlaRFkzTXprM1pETTJZUVx1MDAzZFx1MDAzZCIsW251bGwsbnVsbCxudWxsLCJodHRwczovL3d3dy5nc3RhdGljLmNvbS8wZW1uL2YvcC9kZGY2ZGJkNjczOTdkMzZhLmpzP3VzcXBcdTAwM2RDQWMiXQpdCiwiaHR0cHM6Ly9mdW5kaW5nY2hvaWNlc21lc3NhZ2VzLmdvb2dsZS5jb20vbC9BR1NLV3hWS1FVNm41UG1rTWZES3RFLXo5UXRLdDFfMG81MUZvZTBwMkNaZGNoSUJXMnROQjV4X3VRcjhYQmVWSDJzc1ljZ1ZKNWcwRzFoUGN0aENRek9HP2FiXHUwMDNkMSIsImh0dHBzOi8vZnVuZGluZ2Nob2ljZXNtZXNzYWdlcy5nb29nbGUuY29tL2wvQUdTS1d4VUNkdXY0eC01UE5ZNVFUNDRGX0szS2dHekw2U05jX0ZnN3hEa1l4LUhJLUlOZl9FZ2RGcGNoYTM3eTRraF8xcmw2cGhrWHVOOUVDNHEzQUhFaT9hYlx1MDAzZDJcdTAwMjZzYmZcdTAwM2QxIiwiaHR0cHM6Ly9mdW5kaW5nY2hvaWNlc21lc3NhZ2VzLmdvb2dsZS5jb20vbC9BR1NLV3hXSHlFeXFrVVpSZmc1VERsb0ZiLVFQWU1jMGNSSXFHVUtoWEQyV2xySVE3UElyMWY1SWFuRzVwZk1Od08wQUlrSmx3MTh0UHBIYkV5a25oUUlkP3NiZlx1MDAzZDIiXQo=\");\\n    }\\n\\n    function loadQuantcastCmpTcf2() {\\n        var host = window.location.hostname;\\n        var element = document.createElement(\\'script\\');\\n        var firstScript = document.getElementsByTagName(\\'script\\')[0];\\n        var url = \\'https://quantcast.mgr.consensu.org\\'\\n            .concat(\\'/choice/\\', \\'DZZa7nKCW8kGP\\', \\'/\\', host, \\'/choice.js\\')\\n        element.async = true;\\n        element.type = \\'text/javascript\\';\\n        element.src = url;\\n\\n        firstScript.parentNode.insertBefore(element, firstScript);\\n    }\\n</script>\\n<script>\\n    var pAb = {\\n        id: \\'2021-10-26_AD_VIDEO\\',\\n        variations: [\\n            { id: \\'A\\', \\'dfpId\\': 630 },\\n            { id: \\'B\\', \\'dfpId\\': 631 },\\n        ]\\n    }\\n\\n    function getCookie(name) {\\n        var matches = document.cookie.match(new RegExp(\\n            \"(?:^|; )\" + name.replace(/([\\\\.$?*|{}\\\\(\\\\)\\\\[\\\\]\\\\\\\\\\\\/\\\\+^])/g, \\'\\\\\\\\$1\\') + \"=([^;]*)\"\\n        ));\\n        return matches ? decodeURIComponent(matches[1]) : undefined;\\n    }\\n\\n    function rand(min, max) {\\n        var argc = arguments.length;\\n        if (argc === 0) {\\n            min = 0;\\n            max = 2147483647;\\n        } else if (argc === 1) {\\n            throw new Error(\\'Warning: rand() expects exactly 2 parameters, 1 given\\');\\n        } else {\\n            min = parseInt(min, 10);\\n            max = parseInt(max, 10);\\n        }\\n        return Math.floor(Math.random() * (max - min + 1)) + min;\\n    }\\n\\n    function getSetAbVar() {\\n        if (!(window.navigator.userAgent.match(/Mobile/) && !window.navigator.userAgent.match(/iPad/))) {\\n            return {\\n                abVar: \\'\\',\\n                dfpId: \\'\\',\\n            }\\n        }\\n\\n        var c = getCookie(\\'_pro_abVar\\'),\\n            abVar = {\\n                expId: pAb.id,\\n                getName: function() {\\n                    return this.expId + \\'.\\' + this.varId\\n                }\\n            };\\n\\n        if (c) {\\n            var m = c.match(new RegExp(pAb.id + \"\\\\.(A|B|C|D|E|F|G|H)\"));\\n            if (m) {\\n                abVar.varId = m[1]\\n                abVar.varIndex = pAb.variations.reduce(function(memo, item, index) {\\n                    if (item.id === abVar.varId) {\\n                        memo = index;\\n                    }\\n                    return memo;\\n                }, undefined)\\n            }\\n        }\\n\\n        if (typeof abVar.varIndex === \\'undefined\\') {\\n            abVar.varIndex = rand(0, pAb.variations.length - 1);\\n            abVar.varId = pAb.variations[abVar.varIndex].id\\n            var date = new Date();\\n            date.setDate(date.getDate() + 30);\\n            document.cookie = \"_pro_abVar=\" + abVar.getName() + \"; path=/; expires=\" + date.toUTCString();\\n        }\\n\\n        return {\\n            abVar: abVar.getName(),\\n            dfpId: pAb.variations[abVar.varIndex].dfpId,\\n        }\\n    }\\n\\n    window.UGAPP = {};\\n\\n    window.UGAPP.cmp = {\\n        footerMenuSelector: \\'.footer\\',\\n        linkTemplate: \\'<a href=\"#\" class=\"js-cmp-footer-trigger\">Privacy Settings</a> / \\',\\n        position: \\'afterbegin\\'\\n    }\\n\\n    window.UGAPP.config = {\\n        metricaId: 18984733,\\n        facebookId: 1454052448199369,\\n        is_mobile: window.navigator.userAgent.match(/Mobile/) && !window.navigator.userAgent.match(/iPad/),\\n        isUgOffice: \\'\\',\\n        staticPrefix: \\'//cdn.ustatik.com/\\',\\n                isGDPRAvailable: false,\\n                ug_server_name: \"ultimate-guitar.com\",\\n        server: {\\n            main: \\'www.lyricsfreak.com\\',\\n        },\\n    };\\n\\n    window.UGAPP.store = {}\\n\\n        <!-- region ENSR -->\\n    window.UGAPP.bidding = {\"analytics\":{\"logUrl\":\"\\\\/\\\\/track.ultimate-guitar.com\\\\/ug\\\\/\",\"pageType\":\"lf_ros_desktop_version\",\"region\":\"ENSR\",\"device\":null,\"variation\":null,\"hasHardRefresh\":true},\"refresh\":{\"limit\":20,\"maxVisibleTime\":1000,\"delay\":30000,\"delayDeviation\":0,\"enabled\":true,\"hasHardRefresh\":true,\"availableBidders\":[\"appnexus\",\"indexExchange\",\"pubmatic\",\"rubicon\",\"sonobi\",\"openx\",\"adform\",\"aol\",\"brealtime\",\"audienceNetwork\",\"improvedigital\",\"adkernelAdn\",\"districtM\",\"oftmedia\"]},\"minRefreshCpm\":0.040000000000000000832667268468867405317723751068115234375,\"cpmFloor\":0.1499999999999999944488848768742172978818416595458984375,\"needErrorLogging\":false,\"timeout\":1000,\"dfpId\":74268401,\"units\":[{\"code\":\"ad_cs_2010296_728_90\",\"dfpCode\":\"LF_ATF_728\",\"sizes\":[[728,90],[970,250]],\"placement\":\"ATF\",\"bids\":[{\"bidder\":\"appnexus\",\"params\":{\"placementId\":\"8830220\"}},{\"bidder\":\"rubicon\",\"params\":{\"accountId\":\"15178\",\"siteId\":\"99378\",\"zoneId\":\"467592\"}},{\"bidder\":\"pubmatic\",\"params\":{\"publisherId\":\"72623\",\"adSlot\":\"3137327@728x90\"}},{\"bidder\":\"sonobi\",\"params\":{\"dom_id\":\"ad_cs_2010296_728_90\",\"placement_id\":\"c6fef5ed4a3815c843de\"}},{\"bidder\":\"indexExchange\",\"params\":{\"id\":\"2\",\"size\":[728,90],\"siteId\":\"184119\"}},{\"bidder\":\"districtM\",\"params\":{\"placementId\":\"9496305\"}},{\"bidder\":\"openx\",\"params\":{\"delDomain\":\"ultimate-guitar-d.openx.net\",\"unit\":\"538649101\"}},{\"bidder\":\"conversant\",\"params\":{\"site_id\":\"109085\",\"secure\":\"true\"}},{\"bidder\":\"adform\",\"params\":{\"mid\":\"446452\"}},{\"bidder\":\"sovrn\",\"params\":{\"tagid\":\"536979\"}}],\"mediaTypes\":{\"banner\":{\"sizes\":[[728,90],[970,250]]}},\"mediaType\":\"banner\",\"appnexusPlacementId\":12274361},{\"code\":\"ad_cs_2010296_300_250\",\"dfpCode\":\"LF_ATF_300\",\"sizes\":[[300,250]],\"placement\":\"ATF\",\"bids\":[{\"bidder\":\"appnexus\",\"params\":{\"placementId\":\"8830220\"}},{\"bidder\":\"rubicon\",\"params\":{\"accountId\":\"15178\",\"siteId\":\"99378\",\"zoneId\":\"467592\"}},{\"bidder\":\"pubmatic\",\"params\":{\"publisherId\":\"72623\",\"adSlot\":\"3137323@300x250\"}},{\"bidder\":\"sonobi\",\"params\":{\"dom_id\":\"ad_cs_2010296_300_250\",\"placement_id\":\"990657cc05c82d1b4eba\"}},{\"bidder\":\"indexExchange\",\"params\":{\"id\":\"10\",\"size\":[300,250],\"siteId\":\"184123\"}},{\"bidder\":\"districtM\",\"params\":{\"placementId\":\"9496304\"}},{\"bidder\":\"openx\",\"params\":{\"delDomain\":\"ultimate-guitar-d.openx.net\",\"unit\":\"538649100\"}},{\"bidder\":\"conversant\",\"params\":{\"site_id\":\"109085\",\"secure\":\"true\"}},{\"bidder\":\"adform\",\"params\":{\"mid\":\"446454\"}},{\"bidder\":\"sovrn\",\"params\":{\"tagid\":\"536975\"}}],\"mediaTypes\":{\"banner\":{\"sizes\":[[300,250]]}},\"mediaType\":\"banner\",\"appnexusPlacementId\":12274361},{\"code\":\"ad_cs_2010279_300_250\",\"dfpCode\":\"LF_BTF_300\",\"sizes\":[[300,250]],\"placement\":\"BTF\",\"bids\":[{\"bidder\":\"appnexus\",\"params\":{\"placementId\":\"8830223\"}},{\"bidder\":\"rubicon\",\"params\":{\"accountId\":\"15178\",\"siteId\":\"99378\",\"zoneId\":\"467594\"}},{\"bidder\":\"pubmatic\",\"params\":{\"publisherId\":\"72623\",\"adSlot\":\"3137335@300x250\"}},{\"bidder\":\"sonobi\",\"params\":{\"dom_id\":\"ad_cs_2010279_300_250\",\"placement_id\":\"fa8c0696693841b4ba50\"}},{\"bidder\":\"districtM\",\"params\":{\"placementId\":\"9496149\"}},{\"bidder\":\"openx\",\"params\":{\"delDomain\":\"ultimate-guitar-d.openx.net\",\"unit\":\"538649104\"}},{\"bidder\":\"adform\",\"params\":{\"mid\":\"446455\"}},{\"bidder\":\"sovrn\",\"params\":{\"tagid\":\"536982\"}}],\"mediaTypes\":{\"banner\":{\"sizes\":[[300,250]]}},\"mediaType\":\"banner\",\"appnexusPlacementId\":12274402}],\"complexUnits\":[],\"refreshBidders\":[],\"priceGranularity\":[{\"precision\":2,\"min\":0,\"max\":1,\"increment\":0.01000000000000000020816681711721685132943093776702880859375},{\"precision\":2,\"min\":1,\"max\":2,\"increment\":0.0200000000000000004163336342344337026588618755340576171875},{\"precision\":2,\"min\":2,\"max\":5,\"increment\":0.05000000000000000277555756156289135105907917022705078125},{\"precision\":2,\"min\":5,\"max\":10,\"increment\":0.1000000000000000055511151231257827021181583404541015625},{\"precision\":2,\"min\":10,\"max\":20,\"increment\":0.200000000000000011102230246251565404236316680908203125},{\"precision\":2,\"min\":20,\"max\":50,\"increment\":0.5}],\"dynamicLoad\":true,\"apstagEnabled\":true}    \\n    window.UGAPP.bidding.analytics = window.UGAPP.bidding.analytics || {}\\n    var variation = getSetAbVar();\\n    if (window.UGAPP.bidding && variation.abVar) {\\n        window.UGAPP.bidding.analytics.variation = variation.dfpId\\n    }\\n\\n    window.UGAPP.bidding.tcfVersion = 2;\\n    window.UGAPP.bidding.isGDPRAvailable = window.UGAPP.config.isGDPRAvailable;\\n\\n    window.UGAPP.bidding.complexUnits = [];\\n\\n    if (variation.abVar === \\'2021-10-26_AD_VIDEO.B\\') {\\n        window.UGAPP.bidding.units = window.UGAPP.bidding.units.filter(function(u) {\\n            return u.dfpCode !== \\'LF_BTF_320M\\';\\n        });\\n    }\\n\\n    window.UGAPP.bidding.slots = window.UGAPP.bidding.units.map(function(unit) {\\n        return {\\n            code: unit.code,\\n            appnexusPlacementId: unit.appnexusPlacementId,\\n            refresh: unit.refresh || {},\\n            tag: null,\\n            dynamic: unit.dynamic,\\n        }\\n    })\\n\\n    var pbjs = pbjs || {};\\n    pbjs.que = pbjs.que || [];\\n\\n    var googletag = window.googletag || {};\\n    googletag.cmd = googletag.cmd || [];\\n\\n    var biddingHelpers = {\\n        gptLoadStarted: false,\\n        loadScript: function(src) {\\n            var script = document.createElement(\\'script\\');\\n            script.async=true;\\n            script.type = \\'text/javascript\\';\\n            script.src = src;\\n            var node = document.getElementsByTagName(\\'script\\')[0];\\n            node.parentNode.insertBefore(script, node);\\n        },\\n        loadPrebid: function() {\\n            this.loadScript(\\'//cdn.ustatik.com/public/build/prebid/prebid.js?cb=1654901025\\');\\n        },\\n        loadCmpTcf2: function(cb) {\\n                            loadQuantcastCmpTcf2();\\n            \\n            if (typeof cb === \\'function\\') {\\n                this.onTcfReady(cb);\\n            }\\n        },\\n        onTcfReady: function(cb) {\\n            function waitForTcf(tcData) {\\n                if (!tcData || tcData === true) {\\n                    return;\\n                }\\n\\n                if ([\\'tcloaded\\', \\'useractioncomplete\\'].indexOf(tcData.eventStatus) !== -1) {\\n                    window.__tcfapi(\\'removeEventListener\\', 2, waitForTcf, tcData.listenerId);\\n                    var hasNecessaryPurposes = tcData.purpose && tcData.purpose.consents && tcData.purpose.consents[1];\\n                    if (hasNecessaryPurposes) {\\n                        [2, 7, 9, 10].forEach(function(id) {\\n                            if (!(\\n                                tcData.purpose && tcData.purpose.consents && tcData.purpose.consents[id] ||\\n                                tcData.purpose && tcData.purpose.egitimateInterests && tcData.purpose.egitimateInterests[id]\\n                            )) {\\n                                hasNecessaryPurposes = false;\\n                            }\\n                        });\\n                    }\\n\\n                    if (typeof cb === \\'function\\') {\\n                        cb(tcData, hasNecessaryPurposes);\\n                    }\\n                }\\n            }\\n\\n            window.__tcfapi(\\'addEventListener\\', 2, waitForTcf);\\n        },\\n        loadAmazonApstag: function () {\\n            !function (a9, a, p, s, t, A, g) {\\n                if (a[a9]) return;\\n\\n                function q(c, r) {\\n                    a[a9]._Q.push([c, r])\\n                }\\n\\n                a[a9] = {\\n                    init: function () {\\n                        q(\"i\", arguments)\\n                    },\\n                    fetchBids: function () {\\n                        q(\"f\", arguments)\\n                    },\\n                    setDisplayBids: function () {\\n                    },\\n                    targetingKeys: function () {\\n                        return []\\n                    }, _Q: []\\n                };\\n                A = p.createElement(s);\\n                A.async = !0;\\n                A.src = t;\\n                g = p.getElementsByTagName(s)[0];\\n                g.parentNode.insertBefore(A, g)\\n            }(\"apstag\", window, document, \"script\", \"//c.amazon-adsystem.com/aax2/apstag.js\");\\n\\n            var apstagParams = {\\n                pubID: \\'fa84ab71-a984-4d4b-9cab-fa3b3879ff93\\',\\n                adServer: \\'googletag\\',\\n            }\\n\\n            if (window.UGAPP.bidding.isGDPRAvailable) {\\n                apstagParams.gdpr = {\\n                    enabled: true,\\n                    cmpTimeout: 100000000\\n                }\\n            }\\n\\n            apstag.init(apstagParams)\\n        },\\n        apstagFetchBids: function (units) {\\n            apstag.fetchBids({\\n                slots: units.map(function (unit) {\\n                    return {\\n                        slotID: unit.code,\\n                        slotName: \\'/\\' + window.UGAPP.bidding.dfpId + \\'/\\' + unit.dfpCode,\\n                        sizes: unit.sizes\\n                    };\\n                }),\\n                timeout: window.UGAPP.bidding.timeout\\n            }, function (bids) {\\n                googletag.cmd.push(function () {\\n                    apstag.setDisplayBids()\\n                })\\n            })\\n        },\\n        loadAdServerScript: function() {\\n            this.loadScript(\\'//www.googletagservices.com/tag/js/gpt.js\\');\\n        },\\n        loadAdServer: function () {\\n            if (this.gptLoadStarted) {\\n                return;\\n            }\\n\\n            this.gptLoadStarted = true;\\n\\n            if (window.UGAPP.bidding.isGDPRAvailable) {\\n                this.onTcfReady(function(tcData, hasNecessaryPurposes) {\\n                    if (hasNecessaryPurposes) {\\n                        biddingHelpers.loadAdServerScript();\\n                    }\\n                })\\n            } else {\\n                this.loadAdServerScript();\\n            }\\n        },\\n        getAdomikRandomAdGroup: function () {\\n            var rand = Math.random()\\n            switch (true) {\\n                case rand < 0.45: return \\'ad_ex\\' + (Math.floor(100 * (rand / 5)))\\n                case rand < 0.5: return \\'ad_bc\\'\\n                default: return \\'ad_opt\\'\\n            }\\n        },\\n        defineGptTag: function(params, needRefresh) {\\n            var dfpId = window.UGAPP.bidding.dfpId\\n            var dfpCode = needRefresh ? params.dfpCode + \\'_REFRESH\\' : params.dfpCode;\\n            var path = \\'/\\' + dfpId + \\'/\\' + dfpCode;\\n            var tag = googletag\\n                .defineSlot(path, params.sizes, params.code)\\n                .addService(googletag.pubads())\\n                .setTargeting(\\'ad_group\\', biddingHelpers.getAdomikRandomAdGroup())\\n                .setTargeting(\\'is_refresh\\', \\'0\\')\\n\\n            if (window.UGAPP.bidding.analytics.variation) {\\n                tag.setTargeting(\\'variation\\', window.UGAPP.bidding.analytics.variation);\\n\\n                if (\\n                    window.UGAPP.bidding.analytics.variation === 631 &&\\n                    params.dfpCode === \\'LF_ATF_300M\\'\\n                ) {\\n                    tag.setTargeting(\\'video\\', \\'sticky\\');\\n                }\\n            }\\n\\n            return tag\\n        },\\n        getUnitByCode: function(code) {\\n            return window.UGAPP.bidding.units.filter(function(unit) {\\n                return unit.code === code\\n            })[0]\\n        },\\n        getSlotByCode: function(code) {\\n            return window.UGAPP.bidding.slots.filter(function(slot) {\\n                return slot.code === code\\n            })[0]\\n        },\\n        createContainerFrame: function(width, height, container_id) {\\n            var containerFrame = window.document.createElement(\\'iframe\\');\\n            containerFrame.width = width;\\n            containerFrame.height = height;\\n            containerFrame.scrolling = \"no\";\\n            containerFrame.marginWidth = \"0\";\\n            containerFrame.marginHeight = \"0\";\\n            containerFrame.frameBorder = \"0\";\\n            containerFrame.style.border = \"0px\";\\n            containerFrame.style.verticalAlign = \"bottom\";\\n\\n            window.document.getElementById(container_id).appendChild(containerFrame);\\n\\n            return containerFrame;\\n        },\\n        runComplexAd: function(complexUnit) {\\n            CMNUNT.load(complexUnit.cmnUNT, {\\n                containerId: complexUnit.code\\n            });\\n        },\\n        getDeviceClass: function() {\\n            var device_class;\\n\\n            if (navigator.userAgent.match(/crawler|bot|bingpreview/i)) device_class = \\'bot\\';\\n            else if (navigator.userAgent.match(/Android/i)) device_class = \\'android\\';\\n            else if (navigator.userAgent.match(/iPhone/i)) device_class = \\'iphone\\';\\n            else if (navigator.userAgent.match(/iPad/i)) device_class = \\'ipad\\';\\n            else device_class = \\'desktop\\';\\n\\n            return device_class;\\n        }\\n    };\\n\\n    window.UGAPP.bidding.analytics.device = biddingHelpers.getDeviceClass();\\n\\n    if (window.UGAPP.bidding.complexUnits) {\\n        window.addEventListener(\\'DOMContentLoaded\\', function() {\\n            window.UGAPP.bidding.complexUnits.map(biddingHelpers.runComplexAd);\\n        })\\n    }\\n\\n    if (\\'\\' === \\'1\\') {\\n        function loadMobileAd() {\\n            window.biddingHelpers.loadScript(\\'//cdn.ustatik.com/public/build/cmp/index.js\\')\\n\\n            document.removeEventListener(\"touchstart\", loadMobileAd)\\n        }\\n\\n        document.addEventListener(\"touchstart\", loadMobileAd)\\n    } else {\\n        window.biddingHelpers.loadScript(\\'//cdn.ustatik.com/public/build/cmp/index.js\\')\\n    }\\n\\n    window.googletag.cmd.push(function () {\\n        window.googletag.pubads().addEventListener(\\'slotRenderEnded\\', function (e) {\\n            var slot = biddingHelpers.getSlotByCode(e.slot.getSlotElementId());\\n            if (!slot) {\\n                return\\n            }\\n\\n            if (typeof window.UGAPP.trigger === \\'function\\') {\\n                window.UGAPP.trigger(\\'slotRenderEnded\\', {code: slot.code, size: e.size});\\n            }\\n\\n            if (\\n                slot.code === \\'ad_cs_3846882_300_250\\' &&\\n                [5819466360].indexOf(e.sourceAgnosticLineItemId) !== -1\\n            ) {\\n                slot.refresh = typeof slot.refresh === \\'object\\' ? slot.refresh : {};\\n                slot.refresh.enabled = false\\n            }\\n        });\\n    });\\n</script>\\n<div class=\"wrapper\">\\n    <div id=\"cmn_wrap\">\\n        <div class=\"header\">\\n            <div class=\"azswitch\">\\n                <a href=\"/top/\" data-tracking=\\'[\"Header\",\"Lyrics\",\"Top 100\"]\\'>top 100</a>\\n                &middot;\\n                <a href=\"/top_new/\" data-tracking=\\'[\"Header\",\"Lyrics\",\"Top new\"]\\'>top new</a>\\n                &middot;\\n                <a href=\"/updates/\" data-tracking=\\'[\"Header\",\"Lyrics\",\"Updates\"]\\'>updates</a>\\n                &middot;\\n                <a href=\"/lyrics_submit.php\" style=\"color:#e00107;\" data-tracking=\\'[\"Header\",\"Lyrics\",\"Submit\"]\\'>submit lyrics</a>\\n            </div>\\n            <a href=\"/\" data-tracking=\\'[\"Header\",\"Lyrics\",\"Logo\"]\\'><span class=\"logo\" title=\"Lyrics\"></span></a>\\n            <div class=\"navbar-cont\">\\n                <div class=\"navbar ui-navbar\">\\n                    <table cellspacing=\"0\" width=\"100%\">\\n                        <tr>\\n                            <td>\\n                                <div class=\"az alpha\">\\n        <span class=\"js-seo-hide-link \" data-href=\"/num_top.html\" data-tracking=\\'[\"Search\",\"Lyrics\",\"Alpha\"]\\'>#</span>\\n        <span class=\"js-seo-hide-link \" data-href=\"/a_top.html\" data-tracking=\\'[\"Search\",\"Lyrics\",\"Alpha\"]\\'>A</span>\\n        <span class=\"js-seo-hide-link \" data-href=\"/b_top.html\" data-tracking=\\'[\"Search\",\"Lyrics\",\"Alpha\"]\\'>B</span>\\n        <span class=\"js-seo-hide-link \" data-href=\"/c_top.html\" data-tracking=\\'[\"Search\",\"Lyrics\",\"Alpha\"]\\'>C</span>\\n        <span class=\"js-seo-hide-link \" data-href=\"/d_top.html\" data-tracking=\\'[\"Search\",\"Lyrics\",\"Alpha\"]\\'>D</span>\\n        <span class=\"js-seo-hide-link \" data-href=\"/e_top.html\" data-tracking=\\'[\"Search\",\"Lyrics\",\"Alpha\"]\\'>E</span>\\n        <span class=\"js-seo-hide-link \" data-href=\"/f_top.html\" data-tracking=\\'[\"Search\",\"Lyrics\",\"Alpha\"]\\'>F</span>\\n        <span class=\"js-seo-hide-link \" data-href=\"/g_top.html\" data-tracking=\\'[\"Search\",\"Lyrics\",\"Alpha\"]\\'>G</span>\\n        <span class=\"js-seo-hide-link \" data-href=\"/h_top.html\" data-tracking=\\'[\"Search\",\"Lyrics\",\"Alpha\"]\\'>H</span>\\n        <span class=\"js-seo-hide-link \" data-href=\"/i_top.html\" data-tracking=\\'[\"Search\",\"Lyrics\",\"Alpha\"]\\'>I</span>\\n        <span class=\"js-seo-hide-link \" data-href=\"/j_top.html\" data-tracking=\\'[\"Search\",\"Lyrics\",\"Alpha\"]\\'>J</span>\\n        <span class=\"js-seo-hide-link \" data-href=\"/k_top.html\" data-tracking=\\'[\"Search\",\"Lyrics\",\"Alpha\"]\\'>K</span>\\n        <span class=\"js-seo-hide-link \" data-href=\"/l_top.html\" data-tracking=\\'[\"Search\",\"Lyrics\",\"Alpha\"]\\'>L</span>\\n        <span class=\"js-seo-hide-link \" data-href=\"/m_top.html\" data-tracking=\\'[\"Search\",\"Lyrics\",\"Alpha\"]\\'>M</span>\\n        <span class=\"js-seo-hide-link \" data-href=\"/n_top.html\" data-tracking=\\'[\"Search\",\"Lyrics\",\"Alpha\"]\\'>N</span>\\n        <span class=\"js-seo-hide-link \" data-href=\"/o_top.html\" data-tracking=\\'[\"Search\",\"Lyrics\",\"Alpha\"]\\'>O</span>\\n        <span class=\"js-seo-hide-link \" data-href=\"/p_top.html\" data-tracking=\\'[\"Search\",\"Lyrics\",\"Alpha\"]\\'>P</span>\\n        <span class=\"js-seo-hide-link \" data-href=\"/q_top.html\" data-tracking=\\'[\"Search\",\"Lyrics\",\"Alpha\"]\\'>Q</span>\\n        <span class=\"js-seo-hide-link \" data-href=\"/r_top.html\" data-tracking=\\'[\"Search\",\"Lyrics\",\"Alpha\"]\\'>R</span>\\n        <span class=\"js-seo-hide-link \" data-href=\"/s_top.html\" data-tracking=\\'[\"Search\",\"Lyrics\",\"Alpha\"]\\'>S</span>\\n        <span class=\"js-seo-hide-link \" data-href=\"/t_top.html\" data-tracking=\\'[\"Search\",\"Lyrics\",\"Alpha\"]\\'>T</span>\\n        <span class=\"js-seo-hide-link \" data-href=\"/u_top.html\" data-tracking=\\'[\"Search\",\"Lyrics\",\"Alpha\"]\\'>U</span>\\n        <span class=\"js-seo-hide-link \" data-href=\"/v_top.html\" data-tracking=\\'[\"Search\",\"Lyrics\",\"Alpha\"]\\'>V</span>\\n        <span class=\"js-seo-hide-link \" data-href=\"/w_top.html\" data-tracking=\\'[\"Search\",\"Lyrics\",\"Alpha\"]\\'>W</span>\\n        <span class=\"js-seo-hide-link \" data-href=\"/x_top.html\" data-tracking=\\'[\"Search\",\"Lyrics\",\"Alpha\"]\\'>X</span>\\n        <span class=\"js-seo-hide-link \" data-href=\"/y_top.html\" data-tracking=\\'[\"Search\",\"Lyrics\",\"Alpha\"]\\'>Y</span>\\n        <span class=\"js-seo-hide-link \" data-href=\"/z_top.html\" data-tracking=\\'[\"Search\",\"Lyrics\",\"Alpha\"]\\'>Z</span>\\n    </div>\\n                            </td>\\n                            <td class=\"td-search\">\\n                                <form action=\"/search.php\">\\n                                    <label for=\"search_string\">\\n                                        <input id=\"search_string\" aria-label=\"Search input\" type=\"text\" name=\"q\" class=\"searchinp js-input-search\" placeholder=\"Search artist or song\" value=\"here s where the story ends\" required>\\n                                    </label>\\n                                    <input value=\"Search\" type=\"submit\" class=\"srchbtn searchst ui-search-button\" data-tracking=\\'[\"Search\",\"Lyrics\",\"Search button\"]\\'>\\n                                    <ul id=\"suggestion_container\"\\n                                        class=\"suggestions_block dropdown-menu-select large-select\"\\n                                        style=\"display: none;\"></ul>\\n                                </form>\\n                            </td>\\n                        </tr>\\n                    </table>\\n                </div>\\n            </div>\\n        </div>\\n\\n        <div class=\"lf-hero\">\\n    <div class=\"lf-hero__item\">\\n        <h1>Search  for \"here s where the story ends\" - 3 results</h1>\\n        <div id=\"breadcrumb\" style=\"display:inline-block\">\\n            <span itemscope=\"\" itemtype=\"http://data-vocabulary.org/Breadcrumb\">\\n                <a href=\"/\" itemprop=\"url\"><span itemprop=\"title\">Lyrics</span></a>\\n            </span>\\n            &#9658;\\n            <span itemscope=\"\" itemtype=\"http://data-vocabulary.org/Breadcrumb\">\\n                <span itemprop=\"title\">Search  for \"here s where the story ends\" - 3 results</span>\\n            </span>\\n        </div>\\n    </div>\\n</div>\\n\\n<div class=\"mainhr\"></div>\\n<div class=\"content floatfix\">\\n    <div class=\"sidebar\">\\n\\n    </div>\\n    <div class=\"maincont floatfix\">\\n        <form name=\"form\" action=\"/search.php\">\\n            <div class=\"searchform\">\\n                <input name=\"a\" value=\"search\" type=\"hidden\">\\n                <label for=\"input-search-page\">\\n                    <input id=\"input-search-page\" aria-label=\"Search input\" type=\"text\" name=\"q\" class=\"bigsrchinp\" value=\"here s where the story ends\" required>\\n                </label>\\n                <script type=\"text/javascript\">\\n                    function adv(type,id)\\n                    {\\n                        document.getElementById(\\'stype\\').value = type;\\n                        var type=document.getElementsByTagName(\\'a\\');\\n                        for(var i=0; i<type.length; i++)\\n                        {\\n                            var typei=type[i];\\n                            if(typei.id==id && typei.className==\"t1\")\\n                            {\\n                                typei.className=\"t0\";\\n                            }\\n                            else if(typei.className==\"t0\")\\n                            {\\n                                typei.className=\"t1\";\\n                            }\\n                        }\\n                        document.form.submit();\\n                    }\\n                </script>\\n                <input value=\"\" class=\"lm-button--search\" onmouseover = \"$(this).css(\\'cursor\\',\\'pointer\\')\" type=\"submit\" aria-label=\"Search\">\\n            </div>\\n        </form>\\n                    <div class=\"colortable green\" style=\"margin-left:20px\">\\n                <div class=\"lf-list js-sort-table\">\\n                    <div class=\"lf-list__container js-sort-table-container\">\\n                        <div class=\"lf-list__row lf-list__heading lf-list__heading--primary js-sort-table-heading\">\\n                            <div class=\"lf-list__cell lf-list__heading-cell lf-list__heading-cell--title active down js-sort-table-heading-item\" data-sorting-type=\"artist\">\\n                                Artist\\n                            </div>\\n                            <div class=\"lf-list__cell lf-list__heading-cell js-sort-table-heading-item\" data-sorting-type=\"song\">\\n                                Song\\n                            </div>\\n                        </div>\\n                                                    <div class=\"lf-list__row js-sort-table-content-item\" data-sorting-artist=\"Sundays\" data-sorting-song=\"Here&#039;s Where The Story Ends\">\\n                                <div class=\"lf-list__cell lf-list__title--secondary\">\\n                                    <a href=\"/s/sundays/\">&middot;&nbsp;&nbsp;&nbsp;&nbsp;&nbsp;Sundays</a>\\n                                </div>\\n                                <div class=\"lf-list__cell lf-list__meta\">\\n                                    <a\\n                                        href=\"/s/sundays/heres+where+the+story+ends_20133607.html\"\\n                                        class=\"song\"\\n                                        title=\"Here&#039;s Where The Story Ends lyrics\"\\n                                    >\\n                                        Here&#039;s Where The Story Ends                                    </a>\\n                                </div>\\n                            </div>\\n                                                    <div class=\"lf-list__row js-sort-table-content-item\" data-sorting-artist=\"Tin Tin\" data-sorting-song=\"Here&#039;s Where The Story Ends\">\\n                                <div class=\"lf-list__cell lf-list__title--secondary\">\\n                                    <a href=\"/t/tin+tin/\">&middot;&nbsp;&nbsp;&nbsp;&nbsp;&nbsp;Tin Tin</a>\\n                                </div>\\n                                <div class=\"lf-list__cell lf-list__meta\">\\n                                    <a\\n                                        href=\"/t/tin+tin/heres+where+the+story+ends_21446153.html\"\\n                                        class=\"song\"\\n                                        title=\"Here&#039;s Where The Story Ends lyrics\"\\n                                    >\\n                                        Here&#039;s Where The Story Ends                                    </a>\\n                                </div>\\n                            </div>\\n                                                    <div class=\"lf-list__row js-sort-table-content-item\" data-sorting-artist=\"Tin Tin Out\" data-sorting-song=\"Heres Where The Story Ends\">\\n                                <div class=\"lf-list__cell lf-list__title--secondary\">\\n                                    <a href=\"/t/tin+tin+out/\">&middot;&nbsp;&nbsp;&nbsp;&nbsp;&nbsp;Tin Tin Out</a>\\n                                </div>\\n                                <div class=\"lf-list__cell lf-list__meta\">\\n                                    <a\\n                                        href=\"/t/tin+tin+out/heres+where+the+story+ends_20602987.html\"\\n                                        class=\"song\"\\n                                        title=\"Heres Where The Story Ends lyrics\"\\n                                    >\\n                                        Heres Where The Story Ends                                    </a>\\n                                </div>\\n                            </div>\\n                                            </div>\\n                </div>\\n                            </div>\\n        \\n        \\n        <table cellspacing=\"0\" class=\"popsearch\">\\n            <tr>\\n                <td>\\n                    Top Artists<br>\\n                                            &middot; <a href=\"/r/repablikan/\">Repablikan</a><br>\\n                                            &middot; <a href=\"/b/bisrock/\">Bisrock</a><br>\\n                                            &middot; <a href=\"/a/abhijeet/\">Abhijeet</a><br>\\n                                            &middot; <a href=\"/o/one+piece/\">One Piece</a><br>\\n                                            &middot; <a href=\"/c/children/\">Children</a><br>\\n                                            &middot; <a href=\"/c/christmas+songs/\">Christmas Songs</a><br>\\n                                        <a href=\"/top_artists/\" class=\"more\">more</a>\\n                </td>\\n                <td>\\n                    Top Songs<br>\\n                                            &middot; <a href=\"/r/repablikan/first+love_21020760.html\">First Love</a><br>\\n                                            &middot; <a href=\"/b/bisrock/bisan+pa_20876458.html\">Bisan Pa</a><br>\\n                                            &middot; <a href=\"/o/one+piece/we+are_21063565.html\">We Are!</a><br>\\n                                            &middot; <a href=\"/a/abhijeet/tumhe+jo+maine+dekha_21202023.html\">Tumhe Jo Maine Dekha</a><br>\\n                                            &middot; <a href=\"/p/penny+dai/ni+yao+de+ai+the+love+you+want_20655015.html\">Ni Yao De Ai (The Love You Want)</a><br>\\n                                            &middot; <a href=\"/f/frank+andersen+msc/trinity+song_21130645.html\">Trinity Song</a><br>\\n                                        <a href=\"/top/\" class=\"more\">more</a>\\n                </td>\\n            </tr>\\n        </table>\\n    </div>\\n</div>        <div class=\"footer\">\\n            <span style=\"float:right\"></span>\\n            <a href=\"https://www.lyricsmars.com\">LyricsMars</a> / <a href=\"/about/privacy_policy.htm\">Privacy Policy</a> / <a href=\"/about/tos.htm\">ToS</a> / LyricsFreak &copy; 2023</div>\\n        </div>\\n        <div class=\"footer-print\">\\n            LyricsFreak &copy; 2023        </div>\\n</div>\\n\\n<div id=\"fb-root\"></div>\\n<script id=\"tw_js\" type=\"text/javascript\"></script>\\n    <script>\\n        var UGERROR = {\\n            errors: [],\\n            loggerLoaded: false\\n        };\\n        var oldOnError = window.onerror;\\n        var loadScript = function(src, resolve) {\\n            UGERROR.loggerLoaded = true;\\n            var script = document.createElement(\\'script\\');\\n            script.async=true;\\n            script.type = \\'text/javascript\\';\\n            script.src = src;\\n\\n            var changeState = function() {\\n                if (!loaded) {\\n                    resolve();\\n                    loaded = true;\\n                }\\n            };\\n            var loaded;\\n\\n            script.onreadystatechange = changeState;\\n            script.onload = changeState;\\n\\n            var node = document.getElementsByTagName(\\'script\\')[0];\\n            node.parentNode.insertBefore(script, node);\\n        };\\n\\n        UGERROR.loadErrorLogger = function (release) {\\n            var whitelistUrls = [\\n                new RegExp(\\'/static/js\\')\\n            ];\\n\\n            if (window.location.pathname !== \\'/\\') {\\n                whitelistUrls.push(new RegExp(window.location.href))\\n            }\\n\\n            !UGERROR.loggerLoaded && loadScript(\\'/static/vendor/centry/raven.min.js?cb=1654901025\\', function() {\\n                window.onerror = oldOnError;\\n                window.Raven.config(\\'https://1492908e42664eec979c392e6d0e9a81@sentry10.ultimate-guitar.com/14\\', {\\n                    release: release,\\n                    whitelistUrls: whitelistUrls,\\n                    tags: {\\n                        country: \\'US\\',\\n                    }\\n                }).install();\\n                UGERROR.errors.forEach(function(args) {\\n                    (args.length > 1) ? window.onerror.apply(this, args) : window.Raven.captureException(args);\\n                });\\n            })\\n        };\\n\\n        window.onerror = function() {\\n            UGERROR.errors.push(arguments);\\n            oldOnError && oldOnError.apply(this, arguments);\\n        };\\n\\n        window.addEventListener(\\'load\\', function() {\\n            UGERROR.loadErrorLogger(\"1654901025\");\\n        })\\n    </script>\\n\\n<script defer src=\"/static/js/index.js?cb=1654901025\"></script>\\n    <script defer src=\"/static/js/indexReactDesktop.js?cb=1654901025\"></script>\\n</body>\\n</html>\\n'"
      ]
     },
     "execution_count": 5,
     "metadata": {},
     "output_type": "execute_result"
    }
   ],
   "source": [
    "response.text"
   ]
  },
  {
   "cell_type": "code",
   "execution_count": 6,
   "metadata": {},
   "outputs": [],
   "source": [
    "# with open(\"web.html\", mode='wb') as f:\n",
    "#     f.write(response.content)"
   ]
  },
  {
   "cell_type": "code",
   "execution_count": 7,
   "metadata": {},
   "outputs": [],
   "source": [
    "soup = BeautifulSoup(response.text, 'html.parser')\n",
    "indiatables = soup.find_all('a')"
   ]
  },
  {
   "cell_type": "code",
   "execution_count": 8,
   "metadata": {},
   "outputs": [
    {
     "data": {
      "text/plain": [
       "'/s/sundays/heres+where+the+story+ends_20133607.html'"
      ]
     },
     "execution_count": 8,
     "metadata": {},
     "output_type": "execute_result"
    }
   ],
   "source": [
    "lyric_url = ''\n",
    "\n",
    "iterable = iter(indiatables)\n",
    "for link in iterable:\n",
    "    if band.lower() in link.text.lower():\n",
    "        link = next(iterable)\n",
    "        if song.lower() in link.text.lower():\n",
    "            if not lyric_url:\n",
    "                lyric_url = link.get('href')\n",
    "            else:\n",
    "                print(\"Multile results found!\")\n",
    "lyric_url"
   ]
  },
  {
   "cell_type": "code",
   "execution_count": 9,
   "metadata": {},
   "outputs": [
    {
     "data": {
      "text/plain": [
       "200"
      ]
     },
     "execution_count": 9,
     "metadata": {},
     "output_type": "execute_result"
    }
   ],
   "source": [
    "url = root_url + lyric_url\n",
    "response = requests.get(url)\n",
    "response.status_code"
   ]
  },
  {
   "cell_type": "code",
   "execution_count": 10,
   "metadata": {},
   "outputs": [],
   "source": [
    "with open(\"web.html\", mode='wb') as f:\n",
    "    f.write(response.content)"
   ]
  },
  {
   "cell_type": "code",
   "execution_count": 11,
   "metadata": {},
   "outputs": [],
   "source": [
    "soup = BeautifulSoup(response.text, 'html.parser')\n",
    "indiatables = soup.find('div', {'id': 'content'})"
   ]
  },
  {
   "cell_type": "code",
   "execution_count": 12,
   "metadata": {},
   "outputs": [
    {
     "data": {
      "text/plain": [
       "['People I know places I go',\n",
       " 'Make me feel tongue tied',\n",
       " 'I can see how people look down',\n",
       " \"They're on the inside\",\n",
       " \"Here's where the story ends\",\n",
       " 'People I see, weary of me',\n",
       " 'Showing my good side',\n",
       " 'I can see how people look down',\n",
       " \"I'm on the outside\",\n",
       " \"Here's where the story ends\",\n",
       " \"Ooh here's where the story ends\",\n",
       " \"It's that little souvenir of a terrible year\",\n",
       " 'Which makes my eyes feel sore',\n",
       " 'Oh I never should have said the books that you read',\n",
       " 'Were all I loved',\n",
       " \"It's that little souvenir of a terrible year\",\n",
       " 'Which makes me wonder why',\n",
       " \"It's the memories of the shed that make me turn red\",\n",
       " 'Surprise surprise surprise',\n",
       " 'Crazy I know, places I go',\n",
       " 'Make me feel so tired',\n",
       " 'I can see how people look down',\n",
       " \"I'm on the outside\",\n",
       " \"Oh here's where the story ends\",\n",
       " \"Ooh here's where the story ends\",\n",
       " \"It's that little souvenir of a terrible year\",\n",
       " 'Which makes my eyes feel sore',\n",
       " \"& who ever would've thought the books that you brought\",\n",
       " 'Were all I loved',\n",
       " 'Oh the devil in me said go down to the shed',\n",
       " 'I know where I belong',\n",
       " 'But the only thing I ever really wanted to say',\n",
       " 'Was wrong, was wrong, was wrong',\n",
       " \"It's that little souvenir of a colorful year\",\n",
       " 'Which makes me smile inside',\n",
       " 'So I cynically, cynically say the world is that way',\n",
       " 'Surprise, surprise, surprise, surprise, surprise',\n",
       " \"Here's where the story ends\",\n",
       " \"Ooh here's where the story ends\"]"
      ]
     },
     "execution_count": 12,
     "metadata": {},
     "output_type": "execute_result"
    }
   ],
   "source": [
    "lyrics = []\n",
    "\n",
    "for div in indiatables:\n",
    "    line = div.text.strip()\n",
    "    if line:\n",
    "        lyrics.append(line)\n",
    "\n",
    "lyrics"
   ]
  },
  {
   "cell_type": "code",
   "execution_count": 13,
   "metadata": {},
   "outputs": [
    {
     "data": {
      "text/plain": [
       "\"People I know places I go Make me feel tongue tied I can see how people look down They're on the inside Here's where the story ends People I see, weary of me Showing my good side I can see how people look down I'm on the outside Here's where the story ends Ooh here's where the story ends It's that little souvenir of a terrible year Which makes my eyes feel sore Oh I never should have said the books that you read Were all I loved It's that little souvenir of a terrible year Which makes me wonder why It's the memories of the shed that make me turn red Surprise surprise surprise Crazy I know, places I go Make me feel so tired I can see how people look down I'm on the outside Oh here's where the story ends Ooh here's where the story ends It's that little souvenir of a terrible year Which makes my eyes feel sore & who ever would've thought the books that you brought Were all I loved Oh the devil in me said go down to the shed I know where I belong But the only thing I ever really wanted to say Was wrong, was wrong, was wrong It's that little souvenir of a colorful year Which makes me smile inside So I cynically, cynically say the world is that way Surprise, surprise, surprise, surprise, surprise Here's where the story ends Ooh here's where the story ends\""
      ]
     },
     "execution_count": 13,
     "metadata": {},
     "output_type": "execute_result"
    }
   ],
   "source": [
    "' '.join(lyrics)"
   ]
  },
  {
   "cell_type": "code",
   "execution_count": 14,
   "metadata": {},
   "outputs": [],
   "source": [
    "def find_lyrics(band, song):\n",
    "    root_url = \"https://www.lyricsfreak.com\"\n",
    "    search_stem = \"/search.php?q=\"\n",
    "\n",
    "    url = root_url + search_stem + quote_plus(song)\n",
    "    response = requests.get(url)\n",
    "    if response.status_code != 200:\n",
    "        print(response.status_code, url)\n",
    "        return []\n",
    "\n",
    "    soup = BeautifulSoup(response.text, 'html.parser')\n",
    "    indiatables = soup.find_all('a')\n",
    "\n",
    "    if not indiatables:\n",
    "        print(\"No results found!\", url)\n",
    "        return []\n",
    "\n",
    "    lyric_url = ''\n",
    "    iterable = iter(indiatables)\n",
    "    for link in iterable:\n",
    "        if band.lower() in link.text.lower():\n",
    "            link = next(iterable)\n",
    "            if song.lower() in link.text.lower():\n",
    "                if not lyric_url:\n",
    "                    lyric_url = link.get('href')\n",
    "                else:\n",
    "                    print(\"Multile results found!\")\n",
    "                    return []\n",
    "    \n",
    "    if not lyric_url:\n",
    "        print(\"No matching results.\", url)\n",
    "        return []\n",
    "\n",
    "    url = root_url + lyric_url\n",
    "    response = requests.get(url)\n",
    "    response.status_code\n",
    "\n",
    "    if response.status_code != 200:\n",
    "        print(response.status_code, url)\n",
    "        return []\n",
    "    \n",
    "    soup = BeautifulSoup(response.text, 'html.parser')\n",
    "    indiatables = soup.find('div', {'id': 'content'})\n",
    "\n",
    "    if not indiatables:\n",
    "        print(\"No lyrics found!\", url)\n",
    "        return []\n",
    "    \n",
    "    lyrics = []\n",
    "\n",
    "    for div in indiatables:\n",
    "        line = div.text.strip()\n",
    "        if line:\n",
    "            lyrics.append(line)\n",
    "\n",
    "    return lyrics"
   ]
  },
  {
   "cell_type": "code",
   "execution_count": 15,
   "metadata": {},
   "outputs": [
    {
     "data": {
      "text/plain": [
       "['People I know places I go',\n",
       " 'Make me feel tongue tied',\n",
       " 'I can see how people look down',\n",
       " \"They're on the inside\",\n",
       " \"Here's where the story ends\",\n",
       " 'People I see, weary of me',\n",
       " 'Showing my good side',\n",
       " 'I can see how people look down',\n",
       " \"I'm on the outside\",\n",
       " \"Here's where the story ends\",\n",
       " \"Ooh here's where the story ends\",\n",
       " \"It's that little souvenir of a terrible year\",\n",
       " 'Which makes my eyes feel sore',\n",
       " 'Oh I never should have said the books that you read',\n",
       " 'Were all I loved',\n",
       " \"It's that little souvenir of a terrible year\",\n",
       " 'Which makes me wonder why',\n",
       " \"It's the memories of the shed that make me turn red\",\n",
       " 'Surprise surprise surprise',\n",
       " 'Crazy I know, places I go',\n",
       " 'Make me feel so tired',\n",
       " 'I can see how people look down',\n",
       " \"I'm on the outside\",\n",
       " \"Oh here's where the story ends\",\n",
       " \"Ooh here's where the story ends\",\n",
       " \"It's that little souvenir of a terrible year\",\n",
       " 'Which makes my eyes feel sore',\n",
       " \"& who ever would've thought the books that you brought\",\n",
       " 'Were all I loved',\n",
       " 'Oh the devil in me said go down to the shed',\n",
       " 'I know where I belong',\n",
       " 'But the only thing I ever really wanted to say',\n",
       " 'Was wrong, was wrong, was wrong',\n",
       " \"It's that little souvenir of a colorful year\",\n",
       " 'Which makes me smile inside',\n",
       " 'So I cynically, cynically say the world is that way',\n",
       " 'Surprise, surprise, surprise, surprise, surprise',\n",
       " \"Here's where the story ends\",\n",
       " \"Ooh here's where the story ends\"]"
      ]
     },
     "execution_count": 15,
     "metadata": {},
     "output_type": "execute_result"
    }
   ],
   "source": [
    "find_lyrics(band, song)"
   ]
  },
  {
   "attachments": {},
   "cell_type": "markdown",
   "metadata": {},
   "source": [
    "### Let's see if we can find a failure point"
   ]
  },
  {
   "cell_type": "code",
   "execution_count": 16,
   "metadata": {},
   "outputs": [
    {
     "data": {
      "text/plain": [
       "Index(['artist_id', 'artist_followers', 'artist_genres', 'artist_name',\n",
       "       'artist_popularity', 'id', 'name', 'popularity', 'duration_ms',\n",
       "       'explicit', 'artists', 'id_artists', 'release_date', 'danceability',\n",
       "       'energy', 'key', 'loudness', 'mode', 'speechiness', 'acousticness',\n",
       "       'instrumentalness', 'liveness', 'valence', 'tempo', 'time_signature',\n",
       "       'year', 'first_artist_id', 'genre_doc'],\n",
       "      dtype='object')"
      ]
     },
     "execution_count": 16,
     "metadata": {},
     "output_type": "execute_result"
    }
   ],
   "source": [
    "import pandas as pd\n",
    "\n",
    "df = pd.read_pickle('../data/final/audio_qualities.pkl')\n",
    "df.columns"
   ]
  },
  {
   "cell_type": "code",
   "execution_count": 17,
   "metadata": {},
   "outputs": [],
   "source": [
    "df['lyrics'] = ''\n",
    "search_terms = df[['artist_name', 'name', 'year','lyrics']]"
   ]
  },
  {
   "cell_type": "code",
   "execution_count": 18,
   "metadata": {},
   "outputs": [
    {
     "name": "stdout",
     "output_type": "stream",
     "text": [
      "Searching for Roodade Ghame Ulfat Unse - Dialogues by Guru Dutt\n",
      "No matching results. https://www.lyricsfreak.com/search.php?q=Roodade+Ghame+Ulfat+Unse+-+Dialogues\n",
      "Searching for Jab Ham Chale To Saya Bhi Apna - Dialogues by Guru Dutt\n",
      "No matching results. https://www.lyricsfreak.com/search.php?q=Jab+Ham+Chale+To+Saya+Bhi+Apna+-+Dialogues\n",
      "Searching for Teach Me Tonight by The De Castro Sisters\n",
      "No matching results. https://www.lyricsfreak.com/search.php?q=Teach+Me+Tonight\n"
     ]
    }
   ],
   "source": [
    "for index, row in search_terms.head(3).iterrows():\n",
    "    band = row['artist_name'].strip()\n",
    "    song = row['name'].strip()\n",
    "    year = row['year']\n",
    "\n",
    "    print(\"Searching for\", song, \"by\", band)\n",
    "    lyrics = find_lyrics(band, song)\n",
    "\n",
    "    if lyrics:\n",
    "        row['lyrics'] = ' '.join(lyrics)"
   ]
  },
  {
   "attachments": {},
   "cell_type": "markdown",
   "metadata": {},
   "source": [
    "May need to use a fuzzy string comparison."
   ]
  },
  {
   "cell_type": "code",
   "execution_count": 3,
   "metadata": {},
   "outputs": [],
   "source": [
    "from difflib import SequenceMatcher\n",
    "\n",
    "def string_likeness(main: str, second: str) -> float:\n",
    "    \"Get the likeness of two strings as a percentage\"\n",
    "\n",
    "    def clean_string(s: str) -> str:\n",
    "        \"Remove stop words and whitespace\"\n",
    "        s = s.lower()\n",
    "        if s.startswith('the '):\n",
    "            s = s[4:]\n",
    "        s = s.replace(' the ', '')\n",
    "        s = s.replace(' ', '')\n",
    "\n",
    "        return s\n",
    "    \n",
    "    main = clean_string(main)\n",
    "    second = clean_string(second)\n",
    "    \n",
    "    seq = SequenceMatcher(None, main, second)\n",
    "    match = seq.find_longest_match()\n",
    "    \n",
    "    if match.size == len(main):\n",
    "        return 1.\n",
    "    else:\n",
    "        return (1. * match.size) / len(main)"
   ]
  },
  {
   "cell_type": "code",
   "execution_count": 11,
   "metadata": {},
   "outputs": [
    {
     "data": {
      "text/plain": [
       "1.0"
      ]
     },
     "execution_count": 11,
     "metadata": {},
     "output_type": "execute_result"
    }
   ],
   "source": [
    "string_likeness(\"The Sundays\", \"Sundays\")"
   ]
  },
  {
   "cell_type": "code",
   "execution_count": null,
   "metadata": {},
   "outputs": [],
   "source": []
  }
 ],
 "metadata": {
  "kernelspec": {
   "display_name": "spotify_rec-TeMALzD_",
   "language": "python",
   "name": "python3"
  },
  "language_info": {
   "codemirror_mode": {
    "name": "ipython",
    "version": 3
   },
   "file_extension": ".py",
   "mimetype": "text/x-python",
   "name": "python",
   "nbconvert_exporter": "python",
   "pygments_lexer": "ipython3",
   "version": "3.10.8"
  },
  "orig_nbformat": 4
 },
 "nbformat": 4,
 "nbformat_minor": 2
}
